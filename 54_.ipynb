{
 "cells": [
  {
   "cell_type": "markdown",
   "metadata": {},
   "source": [
    "# Magic Square"
   ]
  },
  {
   "cell_type": "code",
   "execution_count": null,
   "metadata": {},
   "outputs": [],
   "source": [
    "def is_magic_square(arr):\n",
    "    mgnum=sum(arr[0])\n",
    "    hor=ver=0\n",
    "    for i in range(len(arr)):\n",
    "        if sum(arr[i])==mgnum:\n",
    "            hor=mgnum\n",
    "        else:\n",
    "            hor=sum(arr[i])\n",
    "    for i in [sum(x) for x in zip(*arr)]:\n",
    "        if i ==mgnum:\n",
    "            ver=mgnum\n",
    "        else:\n",
    "            ver=i\n",
    "    diag=sum([arr[i][i] for i in range(len(arr))])\n",
    "    if hor==ver==diag:\n",
    "        return True\n",
    "    else:\n",
    "        return False            "
   ]
  },
  {
   "cell_type": "code",
   "execution_count": 3,
   "metadata": {},
   "outputs": [
    {
     "data": {
      "text/plain": [
       "True"
      ]
     },
     "execution_count": 3,
     "metadata": {},
     "output_type": "execute_result"
    }
   ],
   "source": [
    "is_magic_square([\n",
    "  [2, 7, 6],\n",
    "  [9, 5, 1],\n",
    "  [4, 3, 8]\n",
    "])"
   ]
  },
  {
   "cell_type": "code",
   "execution_count": 4,
   "metadata": {},
   "outputs": [
    {
     "data": {
      "text/plain": [
       "True"
      ]
     },
     "execution_count": 4,
     "metadata": {},
     "output_type": "execute_result"
    }
   ],
   "source": [
    "is_magic_square([\n",
    "  [16, 3, 2, 13],\n",
    "  [5, 10, 11, 8],\n",
    "  [9, 6, 7, 12],\n",
    "  [4, 15, 14, 1]\n",
    "])"
   ]
  },
  {
   "cell_type": "code",
   "execution_count": 5,
   "metadata": {},
   "outputs": [
    {
     "data": {
      "text/plain": [
       "True"
      ]
     },
     "execution_count": 5,
     "metadata": {},
     "output_type": "execute_result"
    }
   ],
   "source": [
    "is_magic_square([\n",
    "  [1, 14, 14, 4],\n",
    "  [11, 7, 6, 9],\n",
    "  [8, 11, 10, 5],\n",
    "  [13, 2, 3, 15]\n",
    "])"
   ]
  },
  {
   "cell_type": "code",
   "execution_count": 6,
   "metadata": {},
   "outputs": [
    {
     "data": {
      "text/plain": [
       "False"
      ]
     },
     "execution_count": 6,
     "metadata": {},
     "output_type": "execute_result"
    }
   ],
   "source": [
    "is_magic_square([\n",
    "  [1, 14, 14, 2],\n",
    "  [11, 7, 6, 9],\n",
    "  [8, 11, 10, 5],\n",
    "  [13, 2, 3, 15]\n",
    "])"
   ]
  },
  {
   "cell_type": "code",
   "execution_count": 8,
   "metadata": {},
   "outputs": [
    {
     "data": {
      "text/plain": [
       "False"
      ]
     },
     "execution_count": 8,
     "metadata": {},
     "output_type": "execute_result"
    }
   ],
   "source": [
    "is_magic_square([\n",
    "  [2, 1, 6],\n",
    "  [9, 0, 1],\n",
    "  [4, 3, 8]\n",
    "])"
   ]
  },
  {
   "cell_type": "code",
   "execution_count": null,
   "metadata": {},
   "outputs": [],
   "source": []
  }
 ],
 "metadata": {
  "kernelspec": {
   "display_name": "Python 3",
   "language": "python",
   "name": "python3"
  },
  "language_info": {
   "codemirror_mode": {
    "name": "ipython",
    "version": 3
   },
   "file_extension": ".py",
   "mimetype": "text/x-python",
   "name": "python",
   "nbconvert_exporter": "python",
   "pygments_lexer": "ipython3",
   "version": "3.8.5"
  }
 },
 "nbformat": 4,
 "nbformat_minor": 4
}
