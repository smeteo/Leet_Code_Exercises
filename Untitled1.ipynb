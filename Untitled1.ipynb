{
 "cells": [
  {
   "cell_type": "markdown",
   "metadata": {},
   "source": [
    "# Cinemas in 2021"
   ]
  },
  {
   "cell_type": "code",
   "execution_count": null,
   "metadata": {},
   "outputs": [],
   "source": [
    "def maximum_seating(lst):\n",
    "    "
   ]
  },
  {
   "cell_type": "code",
   "execution_count": 34,
   "metadata": {},
   "outputs": [],
   "source": [
    "a=[0, 0, 0, 1, 0, 0, 1, 0, 0, 0]"
   ]
  },
  {
   "cell_type": "code",
   "execution_count": null,
   "metadata": {},
   "outputs": [],
   "source": [
    "for index, seat in enumerate(a):"
   ]
  },
  {
   "cell_type": "code",
   "execution_count": 17,
   "metadata": {},
   "outputs": [
    {
     "name": "stdout",
     "output_type": "stream",
     "text": [
      "0\n",
      "7\n"
     ]
    }
   ],
   "source": [
    "for index, seat in enumerate(a):\n",
    "    if index==0:\n",
    "        if (a[index] & a[index+1] & a[index+2])==0:\n",
    "            a[index]=1\n",
    "    if index==1:\n",
    "        if (a[index-1] & a[index] & a[index+1] & a[index+2])==0:\n",
    "            a[index]=1\n",
    "            \n",
    "    if a[i]==0 and a[i+1] == 0 and a[i+2]==0:\n",
    "        print(i)\n",
    "    "
   ]
  },
  {
   "cell_type": "code",
   "execution_count": 36,
   "metadata": {},
   "outputs": [],
   "source": [
    "for index, seat in enumerate(a):\n",
    "    if index==0:\n",
    "        if (a[index] & a[index+1] & a[index+2])==0:\n",
    "            a[index]=1\n",
    "#    elif index==1:\n",
    "#        if (a[index-1] & a[index] & a[index+1] & a[index+2])==0:\n",
    "#            a[index]=1"
   ]
  },
  {
   "cell_type": "code",
   "execution_count": null,
   "metadata": {},
   "outputs": [],
   "source": []
  },
  {
   "cell_type": "code",
   "execution_count": 37,
   "metadata": {},
   "outputs": [
    {
     "data": {
      "text/plain": [
       "[1, 0, 0, 1, 0, 0, 1, 0, 0, 0]"
      ]
     },
     "execution_count": 37,
     "metadata": {},
     "output_type": "execute_result"
    }
   ],
   "source": [
    "a"
   ]
  },
  {
   "cell_type": "code",
   "execution_count": 41,
   "metadata": {},
   "outputs": [
    {
     "data": {
      "text/plain": [
       "1"
      ]
     },
     "execution_count": 41,
     "metadata": {},
     "output_type": "execute_result"
    }
   ],
   "source": [
    "a[3]"
   ]
  },
  {
   "cell_type": "code",
   "execution_count": 18,
   "metadata": {},
   "outputs": [
    {
     "name": "stdout",
     "output_type": "stream",
     "text": [
      "0 0\n",
      "1 0\n",
      "2 0\n",
      "3 1\n",
      "4 0\n",
      "5 0\n",
      "6 1\n",
      "7 0\n",
      "8 0\n",
      "9 0\n",
      "10 1\n",
      "11 A\n",
      "12 B\n"
     ]
    }
   ],
   "source": [
    "for index, seat in enumerate(a):\n",
    "    print(index,seat)"
   ]
  },
  {
   "cell_type": "code",
   "execution_count": null,
   "metadata": {},
   "outputs": [],
   "source": [
    "foo = somevalue\n",
    "previous = next_ = None\n",
    "l = len(objects)\n",
    "for index, obj in enumerate(objects):\n",
    "    if obj == foo:\n",
    "        if index > 0:\n",
    "            previous = objects[index - 1]\n",
    "        if index < (l - 1):\n",
    "            next_ = objects[index + 1]"
   ]
  },
  {
   "cell_type": "code",
   "execution_count": null,
   "metadata": {},
   "outputs": [],
   "source": []
  },
  {
   "cell_type": "code",
   "execution_count": 6,
   "metadata": {},
   "outputs": [],
   "source": [
    "a.append(1)"
   ]
  },
  {
   "cell_type": "code",
   "execution_count": 7,
   "metadata": {},
   "outputs": [
    {
     "data": {
      "text/plain": [
       "[0, 0, 0, 1, 0, 0, 1, 0, 0, 0, 1]"
      ]
     },
     "execution_count": 7,
     "metadata": {},
     "output_type": "execute_result"
    }
   ],
   "source": [
    "a"
   ]
  },
  {
   "cell_type": "code",
   "execution_count": 9,
   "metadata": {},
   "outputs": [],
   "source": [
    "a.extend('A')"
   ]
  },
  {
   "cell_type": "code",
   "execution_count": 10,
   "metadata": {},
   "outputs": [
    {
     "data": {
      "text/plain": [
       "[0, 0, 0, 1, 0, 0, 1, 0, 0, 0, 1, 'A']"
      ]
     },
     "execution_count": 10,
     "metadata": {},
     "output_type": "execute_result"
    }
   ],
   "source": [
    "a"
   ]
  },
  {
   "cell_type": "code",
   "execution_count": 11,
   "metadata": {},
   "outputs": [],
   "source": [
    "a.append('B')"
   ]
  },
  {
   "cell_type": "code",
   "execution_count": 12,
   "metadata": {},
   "outputs": [
    {
     "data": {
      "text/plain": [
       "[0, 0, 0, 1, 0, 0, 1, 0, 0, 0, 1, 'A', 'B']"
      ]
     },
     "execution_count": 12,
     "metadata": {},
     "output_type": "execute_result"
    }
   ],
   "source": [
    "a"
   ]
  },
  {
   "cell_type": "code",
   "execution_count": 19,
   "metadata": {},
   "outputs": [],
   "source": [
    "b=[0, 0, 0, 0]"
   ]
  },
  {
   "cell_type": "code",
   "execution_count": 22,
   "metadata": {},
   "outputs": [],
   "source": [
    "b[0]=1"
   ]
  },
  {
   "cell_type": "code",
   "execution_count": 23,
   "metadata": {},
   "outputs": [
    {
     "data": {
      "text/plain": [
       "[1, 0, 0, 0]"
      ]
     },
     "execution_count": 23,
     "metadata": {},
     "output_type": "execute_result"
    }
   ],
   "source": [
    "b"
   ]
  },
  {
   "cell_type": "code",
   "execution_count": null,
   "metadata": {},
   "outputs": [],
   "source": [
    "c=[1, 0, 0, 0, 0, 1]"
   ]
  },
  {
   "cell_type": "code",
   "execution_count": 3,
   "metadata": {},
   "outputs": [
    {
     "name": "stdout",
     "output_type": "stream",
     "text": [
      "The original list is : [3, 7, 8, 2, 1, 5, 8, 9, 3]\n",
      "The appended list : ['G', 'F', 'G', 3, 7, 8, 'G', 'F', 'G', 2, 1, 5, 'G', 'F', 'G', 8, 9, 3]\n"
     ]
    }
   ],
   "source": [
    "# Python3 code to demonstrate working of \n",
    "# Append List every Nth index \n",
    "# Using loop \n",
    "\n",
    "# initializing list \n",
    "test_list = [3, 7, 8, 2, 1, 5, 8, 9, 3] \n",
    "\n",
    "# printing original list \n",
    "print(\"The original list is : \" + str(test_list)) \n",
    "\n",
    "# initializing Append list \n",
    "app_list = ['G', 'F', 'G'] \n",
    "\n",
    "# initializing N \n",
    "N = 3\n",
    "\n",
    "res = [] \n",
    "for idx, ele in enumerate(test_list): \n",
    "\t\n",
    "\t# if index multiple of N \n",
    "\tif idx % N == 0: \n",
    "\t\tfor ele_in in app_list: \n",
    "\t\t\tres.append(ele_in) \n",
    "\tres.append(ele) \n",
    "\n",
    "# printing result \n",
    "print(\"The appended list : \" + str(res)) \n"
   ]
  },
  {
   "cell_type": "code",
   "execution_count": 4,
   "metadata": {},
   "outputs": [
    {
     "name": "stdout",
     "output_type": "stream",
     "text": [
      "0 3\n",
      "1 7\n",
      "2 8\n",
      "3 2\n",
      "4 1\n",
      "5 5\n",
      "6 8\n",
      "7 9\n",
      "8 3\n"
     ]
    }
   ],
   "source": [
    "for idx, ele in enumerate(test_list): \n",
    "    print(idx,ele)"
   ]
  },
  {
   "cell_type": "code",
   "execution_count": 5,
   "metadata": {},
   "outputs": [
    {
     "name": "stdout",
     "output_type": "stream",
     "text": [
      "The original list is : [3, 7, 8, 2, 1, 5, 8, 9, 3]\n",
      "The appended list : ['G', 'F', 'G', 3, 7, 8, 'G', 'F', 'G', 2, 1, 5, 'G', 'F', 'G', 8, 9, 3]\n"
     ]
    }
   ],
   "source": [
    "# Python3 code to demonstrate working of \n",
    "# Append List every Nth index \n",
    "# Using extend() \n",
    "\n",
    "# initializing list \n",
    "test_list = [3, 7, 8, 2, 1, 5, 8, 9, 3] \n",
    "\n",
    "# printing original list \n",
    "print(\"The original list is : \" + str(test_list)) \n",
    "\n",
    "# initializing Append list \n",
    "app_list = ['G', 'F', 'G'] \n",
    "\n",
    "# initializing N \n",
    "N = 3\n",
    "\n",
    "res = [] \n",
    "for idx, ele in enumerate(test_list): \n",
    "\t\n",
    "\t# if index multiple of N \n",
    "\tif idx % N == 0: \n",
    "\t\t\n",
    "\t\t# extend to append all elements \n",
    "\t\tres.extend(app_list) \n",
    "\t\t\n",
    "\tres.append(ele) \n",
    "\n",
    "# printing result \n",
    "print(\"The appended list : \" + str(res)) \n"
   ]
  },
  {
   "cell_type": "code",
   "execution_count": null,
   "metadata": {},
   "outputs": [],
   "source": []
  }
 ],
 "metadata": {
  "kernelspec": {
   "display_name": "Python 3",
   "language": "python",
   "name": "python3"
  },
  "language_info": {
   "codemirror_mode": {
    "name": "ipython",
    "version": 3
   },
   "file_extension": ".py",
   "mimetype": "text/x-python",
   "name": "python",
   "nbconvert_exporter": "python",
   "pygments_lexer": "ipython3",
   "version": "3.8.5"
  }
 },
 "nbformat": 4,
 "nbformat_minor": 4
}
