{
 "cells": [
  {
   "cell_type": "markdown",
   "metadata": {},
   "source": [
    "# Hashtag Generator"
   ]
  },
  {
   "cell_type": "markdown",
   "metadata": {},
   "source": [
    "Create a function that is a Hashtag Generator by using the following rules:  \n",
    "\n",
    "The output must start with a hashtag (#).  \n",
    "Each word in the output must have its first letter capitalized.  \n",
    "If the final result, a single string, is longer than 140 characters, the function should return false.  \n",
    "If either the input (str) or the result is an empty string, the function should return false.  \n",
    "Examples  \n",
    "generate_hashtag(\"    Hello     World   \" ) ➞ \"#HelloWorld\"  \n",
    "\n",
    "generate_hashtag(\"\") ➞ false, \"Expected an empty string to return false\"  \n",
    "\n",
    "generate_hashtag(\"Edabit Is Great\") ➞ \"#EdabitIsGreat\", \"Should remove spaces.\"  "
   ]
  },
  {
   "cell_type": "markdown",
   "metadata": {},
   "source": [
    "# Solution"
   ]
  },
  {
   "cell_type": "code",
   "execution_count": 56,
   "metadata": {},
   "outputs": [],
   "source": [
    "def generate_hashtag(txt):\n",
    "    result='#'+''.join([word.capitalize() for word in txt.split()])\n",
    "    if len(result) > 140:\n",
    "        return False\n",
    "    elif txt=='' or result=='#':\n",
    "        return False\n",
    "    else:\n",
    "        return result"
   ]
  },
  {
   "cell_type": "code",
   "execution_count": 57,
   "metadata": {},
   "outputs": [
    {
     "data": {
      "text/plain": [
       "'#HelloWorld'"
      ]
     },
     "execution_count": 57,
     "metadata": {},
     "output_type": "execute_result"
    }
   ],
   "source": [
    "generate_hashtag(\"    Hello     World   \" )"
   ]
  },
  {
   "cell_type": "code",
   "execution_count": 58,
   "metadata": {},
   "outputs": [
    {
     "data": {
      "text/plain": [
       "False"
      ]
     },
     "execution_count": 58,
     "metadata": {},
     "output_type": "execute_result"
    }
   ],
   "source": [
    "generate_hashtag(\"\")"
   ]
  },
  {
   "cell_type": "code",
   "execution_count": 59,
   "metadata": {},
   "outputs": [
    {
     "data": {
      "text/plain": [
       "'#EdabitIsGreat'"
      ]
     },
     "execution_count": 59,
     "metadata": {},
     "output_type": "execute_result"
    }
   ],
   "source": [
    "generate_hashtag(\"Edabit is great\")"
   ]
  },
  {
   "cell_type": "code",
   "execution_count": 60,
   "metadata": {},
   "outputs": [
    {
     "data": {
      "text/plain": [
       "False"
      ]
     },
     "execution_count": 60,
     "metadata": {},
     "output_type": "execute_result"
    }
   ],
   "source": [
    "generate_hashtag(\"Edabit asfafasdg asfaasdfasdfasdf asdfasdfasdf fsd asdfasdfasdf asdfasdfasdfasdf awewer aasdfasdf asdfasdfasdfsdf asdfasdf sdfgasdf  asdgasdgasgasdgasdgis great\")"
   ]
  },
  {
   "cell_type": "markdown",
   "metadata": {},
   "source": [
    "# Alternative"
   ]
  },
  {
   "cell_type": "code",
   "execution_count": 61,
   "metadata": {},
   "outputs": [],
   "source": [
    "def generate_hashtag(txt):\n",
    "\ttxt = txt.title().replace(\" \", \"\")\n",
    "\treturn '#' + txt if 0 < len(txt) < 140 else False"
   ]
  },
  {
   "cell_type": "code",
   "execution_count": 63,
   "metadata": {},
   "outputs": [
    {
     "data": {
      "text/plain": [
       "'#ComeOn'"
      ]
     },
     "execution_count": 63,
     "metadata": {},
     "output_type": "execute_result"
    }
   ],
   "source": [
    "generate_hashtag(\"come on\")"
   ]
  }
 ],
 "metadata": {
  "kernelspec": {
   "display_name": "Python 3",
   "language": "python",
   "name": "python3"
  },
  "language_info": {
   "codemirror_mode": {
    "name": "ipython",
    "version": 3
   },
   "file_extension": ".py",
   "mimetype": "text/x-python",
   "name": "python",
   "nbconvert_exporter": "python",
   "pygments_lexer": "ipython3",
   "version": "3.8.5"
  }
 },
 "nbformat": 4,
 "nbformat_minor": 4
}
