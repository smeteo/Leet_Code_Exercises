{
 "cells": [
  {
   "cell_type": "code",
   "execution_count": null,
   "metadata": {},
   "outputs": [],
   "source": [
    "Given a string, find the length of the longest substring without repeating characters.\n",
    "input: 'abrkaabcdefghijjxxx'\n",
    "output: 'abcdefghij', 10\n",
    "input: 'microsoft'\n",
    "output: 'micros', 6"
   ]
  },
  {
   "cell_type": "code",
   "execution_count": 13,
   "metadata": {},
   "outputs": [],
   "source": [
    "text='abcaz'"
   ]
  },
  {
   "cell_type": "code",
   "execution_count": 28,
   "metadata": {},
   "outputs": [
    {
     "name": "stdout",
     "output_type": "stream",
     "text": [
      "a\n"
     ]
    }
   ],
   "source": [
    "seen = set()  # O(1) lookups\n",
    "for x in text:\n",
    "    if x not in seen:\n",
    "        seen.add(x)\n",
    "    else:\n",
    "        print(x)"
   ]
  },
  {
   "cell_type": "code",
   "execution_count": 32,
   "metadata": {},
   "outputs": [
    {
     "name": "stdout",
     "output_type": "stream",
     "text": [
      "abc 3\n"
     ]
    }
   ],
   "source": [
    "seen = set()  \n",
    "for i,x in enumerate(text):\n",
    "    if x not in seen:\n",
    "        seen.add(x)\n",
    "    else:\n",
    "        print(text[:i],len(text[:i]))"
   ]
  },
  {
   "cell_type": "code",
   "execution_count": 33,
   "metadata": {},
   "outputs": [],
   "source": [
    "def longest_sub(text):\n",
    "    seen = set()  \n",
    "    for i,x in enumerate(text):\n",
    "        if x not in seen:\n",
    "            seen.add(x)\n",
    "        else:\n",
    "            return(text[:i],len(text[:i]))"
   ]
  },
  {
   "cell_type": "code",
   "execution_count": 37,
   "metadata": {},
   "outputs": [
    {
     "data": {
      "text/plain": [
       "('cdefg', 5)"
      ]
     },
     "execution_count": 37,
     "metadata": {},
     "output_type": "execute_result"
    }
   ],
   "source": [
    "longest_sub('cdefgcht')"
   ]
  },
  {
   "cell_type": "code",
   "execution_count": 17,
   "metadata": {},
   "outputs": [
    {
     "data": {
      "text/plain": [
       "'ab'"
      ]
     },
     "execution_count": 17,
     "metadata": {},
     "output_type": "execute_result"
    }
   ],
   "source": [
    "text[:2]"
   ]
  },
  {
   "cell_type": "code",
   "execution_count": 22,
   "metadata": {},
   "outputs": [],
   "source": [
    "count = {}\n",
    "for i,s in enumerate(text):\n",
    "  if s in count:\n",
    "    count[s] += 1\n",
    "  else:\n",
    "    count[s] = 1"
   ]
  },
  {
   "cell_type": "code",
   "execution_count": 23,
   "metadata": {},
   "outputs": [],
   "source": [
    "check_string = \"i am checking this string to see how many times each character appears\""
   ]
  },
  {
   "cell_type": "code",
   "execution_count": 25,
   "metadata": {},
   "outputs": [
    {
     "name": "stdout",
     "output_type": "stream",
     "text": [
      "i 5\n",
      "  12\n",
      "a 7\n",
      "m 3\n",
      "c 5\n",
      "h 5\n",
      "e 7\n",
      "n 3\n",
      "g 2\n",
      "t 5\n",
      "s 5\n",
      "r 4\n",
      "o 2\n",
      "p 2\n"
     ]
    }
   ],
   "source": [
    "count = {}\n",
    "for s in check_string:\n",
    "  if s in count:\n",
    "    count[s] += 1\n",
    "  else:\n",
    "    count[s] = 1\n",
    "\n",
    "for key in count:\n",
    "  if count[key] > 1:\n",
    "    print(key, count[key])"
   ]
  },
  {
   "cell_type": "code",
   "execution_count": 14,
   "metadata": {},
   "outputs": [
    {
     "name": "stdout",
     "output_type": "stream",
     "text": [
      "a\n",
      "b\n",
      "c\n",
      "a\n",
      "z\n"
     ]
    }
   ],
   "source": [
    "for i in text:\n",
    "    print(i)"
   ]
  },
  {
   "cell_type": "code",
   "execution_count": 15,
   "metadata": {},
   "outputs": [
    {
     "name": "stdout",
     "output_type": "stream",
     "text": [
      "0 a\n",
      "1 b\n",
      "2 c\n",
      "3 a\n",
      "4 z\n"
     ]
    }
   ],
   "source": [
    "for i,v in enumerate(text):\n",
    "    print(i,v)"
   ]
  },
  {
   "cell_type": "code",
   "execution_count": 21,
   "metadata": {},
   "outputs": [
    {
     "name": "stdout",
     "output_type": "stream",
     "text": [
      "a a\n",
      "a b\n",
      "a c\n",
      "a a\n",
      "a z\n",
      "b a\n",
      "b b\n",
      "b c\n",
      "b a\n",
      "b z\n",
      "c a\n",
      "c b\n",
      "c c\n",
      "c a\n",
      "c z\n",
      "a a\n",
      "a b\n",
      "a c\n",
      "a a\n",
      "a z\n",
      "z a\n",
      "z b\n",
      "z c\n",
      "z a\n",
      "z z\n"
     ]
    }
   ],
   "source": [
    "for i,v in enumerate(text):\n",
    "    for j,y in enumerate(text):\n",
    "        print(v,y)"
   ]
  },
  {
   "cell_type": "code",
   "execution_count": null,
   "metadata": {},
   "outputs": [],
   "source": []
  }
 ],
 "metadata": {
  "kernelspec": {
   "display_name": "Python 3",
   "language": "python",
   "name": "python3"
  },
  "language_info": {
   "codemirror_mode": {
    "name": "ipython",
    "version": 3
   },
   "file_extension": ".py",
   "mimetype": "text/x-python",
   "name": "python",
   "nbconvert_exporter": "python",
   "pygments_lexer": "ipython3",
   "version": "3.8.3"
  }
 },
 "nbformat": 4,
 "nbformat_minor": 4
}
