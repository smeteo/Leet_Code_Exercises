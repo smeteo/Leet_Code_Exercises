{
 "cells": [
  {
   "cell_type": "markdown",
   "metadata": {},
   "source": [
    "# Recomposing Strings"
   ]
  },
  {
   "cell_type": "markdown",
   "metadata": {},
   "source": [
    "In this challenge, the goal is recomposing scrambled strings made of two or more words.  \n",
    "\n",
    "Every string has to be reversed not in its totality, but by vowels or consonants clusters in the order they are found; after splitting the string in groups, and reversing every group with more than a letter, you'll obtain the correct sequence:  \n",
    "\n",
    "String = \"KiKdaola\"  \n",
    "\n",
    "Separation vowels/consonants = K  i  Kd  ao  l  a  \n",
    "\n",
    "Reversing the groups = K  i  dK  oa  l  a  \n",
    "\n",
    "New string = KidKoala  \n",
    "Now, you have to insert a space between the words. A word starts with a capital letter:  \n",
    "\n",
    "String = \"KidKoala\"  \n",
    "\n",
    "Result = \"Kid Koala\"  \n",
    "Given a string, implement a function that returns, in turn, a new correct string, following the above instructions.  \n",
    "\n",
    "Examples\n",
    "recompose(\"KiKdaola\") ➞ \"Kid Koala\"  \n",
    "\n",
    "recompose(\"BaosdrOCfanada\") ➞ \"Boards Of Canada\"  \n",
    "B  ao  sdr  O  Cf  a  n  a  d  a  \n",
    "B  oa  rds  O  fC  a  n  a  d  a  \n",
    "\n",
    "recompose(\"hCemicarBlohtesr\") ➞ \"Chemical Brothers\"  \n",
    " hC  e  m  i  c  a  rBl  o  ht  e  sr  \n",
    " Ch  e  m  i  c  a  lBr  o  th  e  rs  \n",
    "Notes\n",
    "Every given string will be valid, containing only letters and at least two words (identified by the capital letters).  \n",
    "Remember to reverse the clusters of letters and not the entire string.  "
   ]
  },
  {
   "cell_type": "markdown",
   "metadata": {},
   "source": [
    "# Solution"
   ]
  },
  {
   "cell_type": "code",
   "execution_count": null,
   "metadata": {},
   "outputs": [],
   "source": [
    "import re\n",
    "def recompose(string):\n",
    "    str_vow = str_cons = str_fin =''\n",
    "    for i in string:\n",
    "        if i.lower() in 'aeiou':\n",
    "            str_vow += i\n",
    "            str_fin += str_cons+' '\n",
    "            str_cons = ''\n",
    "        else:\n",
    "            str_cons += i\n",
    "            str_fin += str_vow+' '\n",
    "            str_vow = ''\n",
    "        \n",
    "    str_fin = str_fin+str_cons+str_vow\n",
    "    reverse=''.join([el[::-1] for el in str_fin.split()])\n",
    "    return ' '.join(re.findall('[A-Z][^A-Z]*',reverse))    "
   ]
  },
  {
   "cell_type": "code",
   "execution_count": 2,
   "metadata": {},
   "outputs": [],
   "source": [
    "recompose(\"KiKdaola\")"
   ]
  },
  {
   "cell_type": "code",
   "execution_count": 3,
   "metadata": {},
   "outputs": [
    {
     "data": {
      "text/plain": [
       "'Boards Of Canada'"
      ]
     },
     "execution_count": 3,
     "metadata": {},
     "output_type": "execute_result"
    }
   ],
   "source": [
    "recompose(\"BaosdrOCfanada\")"
   ]
  },
  {
   "cell_type": "code",
   "execution_count": 4,
   "metadata": {},
   "outputs": [
    {
     "data": {
      "text/plain": [
       "'Chemical Brothers'"
      ]
     },
     "execution_count": 4,
     "metadata": {},
     "output_type": "execute_result"
    }
   ],
   "source": [
    "recompose(\"hCemicarBlohtesr\")"
   ]
  },
  {
   "cell_type": "code",
   "execution_count": 5,
   "metadata": {},
   "outputs": [],
   "source": [
    "a=\"KiKdaola\""
   ]
  },
  {
   "cell_type": "code",
   "execution_count": null,
   "metadata": {},
   "outputs": [],
   "source": []
  }
 ],
 "metadata": {
  "kernelspec": {
   "display_name": "Python 3",
   "language": "python",
   "name": "python3"
  },
  "language_info": {
   "codemirror_mode": {
    "name": "ipython",
    "version": 3
   },
   "file_extension": ".py",
   "mimetype": "text/x-python",
   "name": "python",
   "nbconvert_exporter": "python",
   "pygments_lexer": "ipython3",
   "version": "3.8.5"
  }
 },
 "nbformat": 4,
 "nbformat_minor": 4
}
