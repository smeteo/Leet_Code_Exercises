{
 "cells": [
  {
   "cell_type": "markdown",
   "metadata": {},
   "source": [
    "# The Snake — Area Filling"
   ]
  },
  {
   "attachments": {
    "98d067ff-677a-4029-969d-f9b5ac99fb9c.png": {
     "image/png": "[encoded data removed]"
    }
   },
   "cell_type": "markdown",
   "metadata": {},
   "source": [
    "This challenge is based on the classic videogame \"Snake\".  \n",
    "\n",
    "Assume the game screen is an n * n square, and the snake starts the game with length 1 (i.e. just the head) positioned on the top left corner.  \n",
    "\n",
    "For example, if n = 7 the game looks something like this:  \n",
    "\n",
    "![image.png](attachment:98d067ff-677a-4029-969d-f9b5ac99fb9c.png)  \n",
    "\n",
    "In this version of the game, the length of the snake doubles each time it eats food (e.g. if the length is 4, after eating it becomes 8).  \n",
    "\n",
    "Create a function that takes the side n of the game screen and returns the number of times the snake can eat before it runs out of space in the game screen.  \n",
    "\n",
    "Examples  \n",
    "snakefill(3) ➞ 3  \n",
    "\n",
    "snakefill(6) ➞ 5  \n",
    "\n",
    "snakefill(24) ➞ 9  \n",
    "Notes  \n",
    "The given number will always be a positive integer (there are no exceptions to handle)."
   ]
  },
  {
   "cell_type": "markdown",
   "metadata": {},
   "source": [
    "# Solution"
   ]
  },
  {
   "cell_type": "code",
   "execution_count": 41,
   "metadata": {},
   "outputs": [],
   "source": [
    "def snakefill(n):\n",
    "    snake=1\n",
    "    food=0\n",
    "    for i in range(n):\n",
    "        snake*=2\n",
    "        if snake<=n**2:\n",
    "            food+=1\n",
    "        else:\n",
    "            break \n",
    "    return food"
   ]
  },
  {
   "cell_type": "code",
   "execution_count": 42,
   "metadata": {},
   "outputs": [
    {
     "data": {
      "text/plain": [
       "3"
      ]
     },
     "execution_count": 42,
     "metadata": {},
     "output_type": "execute_result"
    }
   ],
   "source": [
    "snakefill(3)"
   ]
  },
  {
   "cell_type": "code",
   "execution_count": 43,
   "metadata": {},
   "outputs": [
    {
     "data": {
      "text/plain": [
       "5"
      ]
     },
     "execution_count": 43,
     "metadata": {},
     "output_type": "execute_result"
    }
   ],
   "source": [
    "snakefill(6)"
   ]
  },
  {
   "cell_type": "code",
   "execution_count": 44,
   "metadata": {},
   "outputs": [
    {
     "data": {
      "text/plain": [
       "9"
      ]
     },
     "execution_count": 44,
     "metadata": {},
     "output_type": "execute_result"
    }
   ],
   "source": [
    "snakefill(24)"
   ]
  },
  {
   "cell_type": "code",
   "execution_count": null,
   "metadata": {},
   "outputs": [],
   "source": [
    "snake=1\n",
    "food=0\n",
    "def factorial(num):\n",
    "    \n",
    "    else:\n",
    "        return num* factorial(num - 1)"
   ]
  },
  {
   "cell_type": "code",
   "execution_count": 77,
   "metadata": {},
   "outputs": [
    {
     "ename": "SyntaxError",
     "evalue": "invalid syntax (<ipython-input-77-0b414fedc2ff>, line 6)",
     "output_type": "error",
     "traceback": [
      "\u001b[1;36m  File \u001b[1;32m\"<ipython-input-77-0b414fedc2ff>\"\u001b[1;36m, line \u001b[1;32m6\u001b[0m\n\u001b[1;33m    break if snake>=n**2:\u001b[0m\n\u001b[1;37m          ^\u001b[0m\n\u001b[1;31mSyntaxError\u001b[0m\u001b[1;31m:\u001b[0m invalid syntax\n"
     ]
    }
   ],
   "source": [
    "n=3\n",
    "snake=1\n",
    "food=0\n",
    "while snake <= n**2:\n",
    "    snake*=2\n",
    "    break if snake>=n**2:\n",
    "\n",
    "    food+=1\n",
    "    print('snake:',snake, 'food',food)\n",
    "    \n",
    "        \n",
    "#food"
   ]
  },
  {
   "cell_type": "code",
   "execution_count": 17,
   "metadata": {},
   "outputs": [
    {
     "data": {
      "text/plain": [
       "64"
      ]
     },
     "execution_count": 17,
     "metadata": {},
     "output_type": "execute_result"
    }
   ],
   "source": [
    "x=1\n",
    "while x < 36:\n",
    "    x*=2\n",
    "#    i+=1\n",
    "x"
   ]
  },
  {
   "cell_type": "code",
   "execution_count": 53,
   "metadata": {},
   "outputs": [
    {
     "data": {
      "text/plain": [
       "9"
      ]
     },
     "execution_count": 53,
     "metadata": {},
     "output_type": "execute_result"
    }
   ],
   "source": [
    "n=24\n",
    "snake=1\n",
    "food=0\n",
    "for i in range(n):\n",
    "    snake*=2\n",
    "    if snake<=n**2:\n",
    "        food+=1\n",
    "    else:\n",
    "        break \n",
    "food"
   ]
  },
  {
   "cell_type": "code",
   "execution_count": 14,
   "metadata": {},
   "outputs": [],
   "source": [
    "x=2"
   ]
  },
  {
   "cell_type": "code",
   "execution_count": 10,
   "metadata": {},
   "outputs": [],
   "source": [
    "x*=3"
   ]
  },
  {
   "cell_type": "code",
   "execution_count": 11,
   "metadata": {},
   "outputs": [
    {
     "data": {
      "text/plain": [
       "6"
      ]
     },
     "execution_count": 11,
     "metadata": {},
     "output_type": "execute_result"
    }
   ],
   "source": [
    "x"
   ]
  },
  {
   "cell_type": "code",
   "execution_count": null,
   "metadata": {},
   "outputs": [],
   "source": []
  }
 ],
 "metadata": {
  "kernelspec": {
   "display_name": "Python 3",
   "language": "python",
   "name": "python3"
  },
  "language_info": {
   "codemirror_mode": {
    "name": "ipython",
    "version": 3
   },
   "file_extension": ".py",
   "mimetype": "text/x-python",
   "name": "python",
   "nbconvert_exporter": "python",
   "pygments_lexer": "ipython3",
   "version": "3.8.5"
  }
 },
 "nbformat": 4,
 "nbformat_minor": 4
}
