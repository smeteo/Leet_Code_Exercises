{
 "cells": [
  {
   "cell_type": "markdown",
   "metadata": {},
   "source": [
    "# RegEx VII-A: Negative Lookbehind"
   ]
  },
  {
   "cell_type": "markdown",
   "metadata": {},
   "source": [
    "Write a regular expression that will help us count how many bad cookies are produced every day. You must use RegEx negative lookbehind.  \n",
    "\n",
    "Example  \n",
    "lst = [\"bad cookie\", \"good cookie\", \"bad cookie\", \"good cookie\", \"good cookie\"]  \n",
    "pattern = \"yourregularexpressionhere\"  \n",
    "\n",
    "len(re.findall(pattern, \", \".join(lst))) ➞ 2  \n",
    "Notes  \n",
    "You don't need to write a function, just the pattern.  \n",
    "Do not remove import re from the code.  \n",
    "Find more info on RegEx and negative lookbehind in Resources.  \n",
    "You can find all the challenges of this series in my Basic RegEx collection.  "
   ]
  },
  {
   "cell_type": "markdown",
   "metadata": {},
   "source": [
    "# Solution"
   ]
  },
  {
   "cell_type": "code",
   "execution_count": 57,
   "metadata": {},
   "outputs": [],
   "source": [
    "import re\n",
    "pattern = \"(?<!good )cookie\""
   ]
  },
  {
   "cell_type": "code",
   "execution_count": 58,
   "metadata": {},
   "outputs": [],
   "source": [
    "lst = [\"bad cookie\", \"good cookie\", \"bad cookie\", \"good cookie\", \"good cookie\"]"
   ]
  },
  {
   "cell_type": "code",
   "execution_count": 59,
   "metadata": {},
   "outputs": [
    {
     "data": {
      "text/plain": [
       "5"
      ]
     },
     "execution_count": 59,
     "metadata": {},
     "output_type": "execute_result"
    }
   ],
   "source": [
    "len(re.findall(pattern, \", \".join(lst)))"
   ]
  },
  {
   "cell_type": "markdown",
   "metadata": {},
   "source": [
    "# Regex Look Around"
   ]
  },
  {
   "cell_type": "markdown",
   "metadata": {},
   "source": [
    "Given the string foobarbarfoo:  \n",
    "\n",
    "bar(?=bar)     finds the 1st bar (\"bar\" which has \"bar\" after it)  \n",
    "bar(?!bar)     finds the 2nd bar (\"bar\" which does not have \"bar\" after it)  \n",
    "(?<=foo)bar    finds the 1st bar (\"bar\" which has \"foo\" before it)  \n",
    "(?<!foo)bar    finds the 2nd bar (\"bar\" which does not have \"foo\" before it)  "
   ]
  },
  {
   "cell_type": "code",
   "execution_count": null,
   "metadata": {},
   "outputs": [],
   "source": []
  }
 ],
 "metadata": {
  "kernelspec": {
   "display_name": "Python 3",
   "language": "python",
   "name": "python3"
  },
  "language_info": {
   "codemirror_mode": {
    "name": "ipython",
    "version": 3
   },
   "file_extension": ".py",
   "mimetype": "text/x-python",
   "name": "python",
   "nbconvert_exporter": "python",
   "pygments_lexer": "ipython3",
   "version": "3.8.5"
  }
 },
 "nbformat": 4,
 "nbformat_minor": 4
}
