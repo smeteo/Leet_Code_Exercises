{
 "cells": [
  {
   "cell_type": "code",
   "execution_count": null,
   "id": "b9ecbbe2-23d2-4656-b264-07fbb2e90a10",
   "metadata": {},
   "outputs": [],
   "source": [
    "def digital_root(n):\n",
    "    if len(str(result)) > 1:\n",
    "    result = sum(int(i) for i in str(n))\n",
    "\n",
    "        digital_root(result)\n",
    "    else:\n",
    "        return result"
   ]
  },
  {
   "cell_type": "code",
   "execution_count": 16,
   "id": "c62e5467-2dbc-4474-8704-0650e0fc306f",
   "metadata": {},
   "outputs": [],
   "source": [
    "def digital_root(n):\n",
    "    n = sum(int(i) for i in str(n))\n",
    "    if len(str(n)) > 1:\n",
    "        digital_root(n)\n",
    "    else:\n",
    "        return n"
   ]
  },
  {
   "cell_type": "code",
   "execution_count": 17,
   "id": "fc4dd79f-04dc-4f9f-8a83-443f3d572170",
   "metadata": {},
   "outputs": [
    {
     "data": {
      "text/plain": [
       "7"
      ]
     },
     "execution_count": 17,
     "metadata": {},
     "output_type": "execute_result"
    }
   ],
   "source": [
    "digital_root(16)"
   ]
  },
  {
   "cell_type": "code",
   "execution_count": 10,
   "id": "200ca082-35e2-46f1-9a50-59feba773b53",
   "metadata": {},
   "outputs": [],
   "source": [
    "def digital_root(n):\n",
    "    result = sum(int(i) for i in str(n))\n",
    "    if len(str(result)) > 1:\n",
    "        digital_root(result)\n",
    "    else:\n",
    "        return result"
   ]
  },
  {
   "cell_type": "code",
   "execution_count": 11,
   "id": "f5d32436-0821-40e3-8bb8-5fcf28a3dc60",
   "metadata": {},
   "outputs": [
    {
     "data": {
      "text/plain": [
       "7"
      ]
     },
     "execution_count": 11,
     "metadata": {},
     "output_type": "execute_result"
    }
   ],
   "source": [
    "digital_root(16)"
   ]
  },
  {
   "cell_type": "code",
   "execution_count": 18,
   "id": "b664bb90-9d11-4d6f-83a8-57af208d574d",
   "metadata": {},
   "outputs": [],
   "source": [
    "digital_root(132189)"
   ]
  },
  {
   "cell_type": "code",
   "execution_count": 2,
   "id": "4f115a50-b7a5-45b9-84fe-2037c43f092f",
   "metadata": {},
   "outputs": [],
   "source": [
    "n = 16"
   ]
  },
  {
   "cell_type": "code",
   "execution_count": 5,
   "id": "ea213d0e-37cb-46ef-b482-a5f41d7953f2",
   "metadata": {},
   "outputs": [],
   "source": [
    "z=0"
   ]
  },
  {
   "cell_type": "code",
   "execution_count": 9,
   "id": "e83ba7b6-faa7-47e7-9724-42f7081336fb",
   "metadata": {},
   "outputs": [
    {
     "data": {
      "text/plain": [
       "7"
      ]
     },
     "execution_count": 9,
     "metadata": {},
     "output_type": "execute_result"
    }
   ],
   "source": [
    "sum(int(i) for i in str(n))"
   ]
  },
  {
   "cell_type": "code",
   "execution_count": null,
   "id": "7e015a41-ddf7-414a-b672-019d5e4e3e5b",
   "metadata": {},
   "outputs": [],
   "source": [
    "result = sum(int(i) for i in str(n))\n",
    "if len(str(result)) > 1:\n",
    "    digi\n",
    "    "
   ]
  }
 ],
 "metadata": {
  "kernelspec": {
   "display_name": "Python 3 (ipykernel)",
   "language": "python",
   "name": "python3"
  },
  "language_info": {
   "codemirror_mode": {
    "name": "ipython",
    "version": 3
   },
   "file_extension": ".py",
   "mimetype": "text/x-python",
   "name": "python",
   "nbconvert_exporter": "python",
   "pygments_lexer": "ipython3",
   "version": "3.9.7"
  }
 },
 "nbformat": 4,
 "nbformat_minor": 5
}
