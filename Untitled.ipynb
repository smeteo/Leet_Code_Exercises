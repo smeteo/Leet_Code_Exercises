{
 "cells": [
  {
   "cell_type": "code",
   "execution_count": null,
   "metadata": {},
   "outputs": [],
   "source": [
    "def sum_complex(lst):"
   ]
  },
  {
   "cell_type": "code",
   "execution_count": null,
   "metadata": {},
   "outputs": [],
   "source": [
    "def sum_complex(lst):\n",
    "    if len(lst)==1: return str(lst[0])\n",
    "    if len(lst)==0: return str(0)\n",
    "    m=0+0j\n",
    "    for k in lst:\n",
    "        m=m+complex(k.replace('i','j'))\n",
    "    if m==0+0j: return '0'\n",
    "    if int(m.imag)==0 : return str(m)[1:-4]\n",
    "    if int(m.real)==0 and int(m.imag)==-1: return '-i'\n",
    "    if int(m.real)==0 and int(m.imag)==1: return 'i'\n",
    "    if int(m.real)==0 and int(m.imag)!=1: return str(int(m.imag))+'i'\n",
    "    if str(m)[-3]=='1': return str(m)[1:-3]+str(m)[-2:-1].replace('j','i')\n",
    "    else: return str(m)[1:-1].replace('j','i')"
   ]
  },
  {
   "cell_type": "code",
   "execution_count": null,
   "metadata": {},
   "outputs": [],
   "source": [
    "def sum_complex(nums):\n",
    "\tz = sum(complex(num.replace('i', 'j')) for num in nums)\n",
    "\ta, b = z.real, z.imag\n",
    "\ts = str(z).replace('j', 'i').replace('1i', 'i')\n",
    "\treturn s[1:-1] if a and b else str(int(a)) if not b else s"
   ]
  }
 ],
 "metadata": {
  "kernelspec": {
   "display_name": "Python 3",
   "language": "python",
   "name": "python3"
  },
  "language_info": {
   "codemirror_mode": {
    "name": "ipython",
    "version": 3
   },
   "file_extension": ".py",
   "mimetype": "text/x-python",
   "name": "python",
   "nbconvert_exporter": "python",
   "pygments_lexer": "ipython3",
   "version": "3.8.5"
  }
 },
 "nbformat": 4,
 "nbformat_minor": 4
}
