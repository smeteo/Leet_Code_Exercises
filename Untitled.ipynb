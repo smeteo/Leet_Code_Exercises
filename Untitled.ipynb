{
 "cells": [
  {
   "cell_type": "markdown",
   "id": "c5c36546-0b5f-4040-8912-7048010a0ca0",
   "metadata": {},
   "source": [
    "# Your order, please"
   ]
  },
  {
   "cell_type": "markdown",
   "id": "7fb56411-7383-42e3-af25-abe1fabf2e20",
   "metadata": {},
   "source": [
    "Your task is to sort a given string. Each word in the string will contain a single number. This number is the position the word should have in the result.  \n",
    "\n",
    "Note: Numbers can be from 1 to 9. So 1 will be the first word (not 0).  \n",
    "\n",
    "If the input string is empty, return an empty string. The words in the input String will only contain valid consecutive numbers.  \n",
    "\n",
    "Examples  \n",
    "\"is2 Thi1s T4est 3a\"  -->  \"Thi1s is2 3a T4est\"  \n",
    "\"4of Fo1r pe6ople g3ood th5e the2\"  -->  \"Fo1r the2 g3ood 4of th5e pe6ople\"  \n",
    "\"\"  -->  \"\"  "
   ]
  },
  {
   "cell_type": "markdown",
   "id": "3a48fe15-8800-43db-a889-1c63d067bd89",
   "metadata": {},
   "source": [
    "### Solution"
   ]
  },
  {
   "cell_type": "code",
   "execution_count": 23,
   "id": "aa5fa5e7-c64f-4be6-9046-50bfd828a488",
   "metadata": {},
   "outputs": [],
   "source": [
    "def order(sentence):\n",
    "    new_order=[]\n",
    "    for i in range(10):\n",
    "        for x in sentence.split():\n",
    "            if str(i) in x:\n",
    "                new_order.append(x)\n",
    "    return ' '.join(new_order)"
   ]
  },
  {
   "cell_type": "code",
   "execution_count": 24,
   "id": "a07bd0f8-7fd6-402f-a1b9-af772afb9898",
   "metadata": {},
   "outputs": [
    {
     "data": {
      "text/plain": [
       "'Thi1s is2 3a T4est'"
      ]
     },
     "execution_count": 24,
     "metadata": {},
     "output_type": "execute_result"
    }
   ],
   "source": [
    "order(\"is2 Thi1s T4est 3a\")"
   ]
  },
  {
   "cell_type": "code",
   "execution_count": 26,
   "id": "efa69cce-1778-4fc2-96f9-182036a2afae",
   "metadata": {},
   "outputs": [
    {
     "data": {
      "text/plain": [
       "'Fo1r the2 g3ood 4of th5e pe6ople'"
      ]
     },
     "execution_count": 26,
     "metadata": {},
     "output_type": "execute_result"
    }
   ],
   "source": [
    "order(\"4of Fo1r pe6ople g3ood th5e the2\")"
   ]
  },
  {
   "cell_type": "code",
   "execution_count": 25,
   "id": "a1db7aa6-fe9c-4753-8248-e91e3aa40b7d",
   "metadata": {},
   "outputs": [
    {
     "data": {
      "text/plain": [
       "''"
      ]
     },
     "execution_count": 25,
     "metadata": {},
     "output_type": "execute_result"
    }
   ],
   "source": [
    "order(\"\")"
   ]
  },
  {
   "cell_type": "markdown",
   "id": "b4192d85-31e1-4bda-8cc8-04d5aa25d404",
   "metadata": {},
   "source": [
    "### Alternative"
   ]
  },
  {
   "cell_type": "code",
   "execution_count": 31,
   "id": "9876c261-54a7-4054-9ba4-98b0bf86fe89",
   "metadata": {},
   "outputs": [],
   "source": [
    "def order(words):\n",
    "    return ' '.join(sorted(words.split(), key=lambda w:sorted(w)))"
   ]
  },
  {
   "cell_type": "code",
   "execution_count": 32,
   "id": "87a2e2eb-7b85-42f1-85f4-d8107efa03e2",
   "metadata": {},
   "outputs": [
    {
     "data": {
      "text/plain": [
       "'Fo1r the2 g3ood 4of th5e pe6ople'"
      ]
     },
     "execution_count": 32,
     "metadata": {},
     "output_type": "execute_result"
    }
   ],
   "source": [
    "order(\"4of Fo1r pe6ople g3ood th5e the2\")"
   ]
  },
  {
   "cell_type": "code",
   "execution_count": 22,
   "id": "2dddf439-1ca5-4ea3-b268-d4b87624b324",
   "metadata": {},
   "outputs": [
    {
     "data": {
      "text/plain": [
       "['Thi1s', 'is2', '3a', 'T4est']"
      ]
     },
     "execution_count": 22,
     "metadata": {},
     "output_type": "execute_result"
    }
   ],
   "source": [
    "new=[]\n",
    "for i in range(10):\n",
    "    for x in lst:\n",
    "        if str(i) in x:\n",
    "            new.append(x)\n",
    "new\n",
    "    "
   ]
  },
  {
   "cell_type": "code",
   "execution_count": 19,
   "id": "8a06e88d-c328-464a-9461-8d228cd6522c",
   "metadata": {},
   "outputs": [
    {
     "data": {
      "text/plain": [
       "'Thi1s is2 3a T4est'"
      ]
     },
     "execution_count": 19,
     "metadata": {},
     "output_type": "execute_result"
    }
   ],
   "source": [
    "' '.join(new)"
   ]
  },
  {
   "cell_type": "code",
   "execution_count": 4,
   "id": "996a5cfa-91ca-43c6-8374-f9fd6ed6328b",
   "metadata": {},
   "outputs": [
    {
     "data": {
      "text/plain": [
       "False"
      ]
     },
     "execution_count": 4,
     "metadata": {},
     "output_type": "execute_result"
    }
   ],
   "source": [
    "sentence.isdigit()"
   ]
  },
  {
   "cell_type": "code",
   "execution_count": 6,
   "id": "8ededd28-69cd-445c-a627-4aa372a09003",
   "metadata": {},
   "outputs": [
    {
     "data": {
      "text/plain": [
       "True"
      ]
     },
     "execution_count": 6,
     "metadata": {},
     "output_type": "execute_result"
    }
   ],
   "source": [
    "'2' in sentence"
   ]
  },
  {
   "cell_type": "code",
   "execution_count": 7,
   "id": "f29f02ec-b30f-4dde-94f0-3b452ad0fff5",
   "metadata": {},
   "outputs": [
    {
     "data": {
      "text/plain": [
       "False"
      ]
     },
     "execution_count": 7,
     "metadata": {},
     "output_type": "execute_result"
    }
   ],
   "source": [
    "'5' in sentence"
   ]
  },
  {
   "cell_type": "code",
   "execution_count": 8,
   "id": "9d406ffc-0fb6-4151-bf82-ec7f202da7ac",
   "metadata": {},
   "outputs": [
    {
     "data": {
      "text/plain": [
       "True"
      ]
     },
     "execution_count": 8,
     "metadata": {},
     "output_type": "execute_result"
    }
   ],
   "source": [
    "'5' not in sentence"
   ]
  },
  {
   "cell_type": "code",
   "execution_count": 9,
   "id": "02230db9-79cf-4a1a-893a-ef1b177b156c",
   "metadata": {},
   "outputs": [
    {
     "data": {
      "text/plain": [
       "2"
      ]
     },
     "execution_count": 9,
     "metadata": {},
     "output_type": "execute_result"
    }
   ],
   "source": [
    "sentence.find('2')"
   ]
  },
  {
   "cell_type": "code",
   "execution_count": 11,
   "id": "07f892e0-377b-4cd6-b4ae-639f90e0ee5b",
   "metadata": {},
   "outputs": [
    {
     "data": {
      "text/plain": [
       "False"
      ]
     },
     "execution_count": 11,
     "metadata": {},
     "output_type": "execute_result"
    }
   ],
   "source": [
    "'1' in lst[0]"
   ]
  },
  {
   "cell_type": "code",
   "execution_count": 35,
   "id": "b23effd9-caf5-4565-993a-f9ef38aa477f",
   "metadata": {},
   "outputs": [
    {
     "data": {
      "text/plain": [
       "['2', 'i', 's']"
      ]
     },
     "execution_count": 35,
     "metadata": {},
     "output_type": "execute_result"
    }
   ],
   "source": [
    "sorted(lst[0])"
   ]
  },
  {
   "cell_type": "code",
   "execution_count": null,
   "id": "eee87ed9-4c40-44cc-9830-35ccf75b2e85",
   "metadata": {},
   "outputs": [],
   "source": []
  }
 ],
 "metadata": {
  "kernelspec": {
   "display_name": "Python 3 (ipykernel)",
   "language": "python",
   "name": "python3"
  },
  "language_info": {
   "codemirror_mode": {
    "name": "ipython",
    "version": 3
   },
   "file_extension": ".py",
   "mimetype": "text/x-python",
   "name": "python",
   "nbconvert_exporter": "python",
   "pygments_lexer": "ipython3",
   "version": "3.9.7"
  }
 },
 "nbformat": 4,
 "nbformat_minor": 5
}
