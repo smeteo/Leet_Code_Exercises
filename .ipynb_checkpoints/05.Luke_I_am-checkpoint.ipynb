{
 "cells": [
  {
   "cell_type": "markdown",
   "metadata": {},
   "source": [
    "# Luke, I Am Your ..."
   ]
  },
  {
   "cell_type": "markdown",
   "metadata": {},
   "source": [
    "Luke Skywalker has family and friends. Help him remind them who is who. Given a string with a name, return the relation of that person to Luke.\n",
    "\n",
    "Person\tRelation  \n",
    "Darth Vader\tfather  \n",
    "Leia\tsister  \n",
    "Han\tbrother in law  \n",
    "R2D2\tdroid  \n",
    "\n",
    "Examples\n",
    "relation_to_luke(\"Darth Vader\") ➞ \"Luke, I am your father.\"\n",
    "\n",
    "relation_to_luke(\"Leia\") ➞ \"Luke, I am your sister.\"\n",
    "\n",
    "relation_to_luke(\"Han\") ➞ \"Luke, I am your brother in law.\""
   ]
  },
  {
   "cell_type": "code",
   "execution_count": 9,
   "metadata": {},
   "outputs": [],
   "source": [
    "relation={'Darth Vader':'father','Leia':'sister','Han':'brother in law','R2D2':'droid'}\n",
    "\n",
    "def relation_to_luke(name):\n",
    "    return print(f'Luke, I am your {relation[name]}')"
   ]
  },
  {
   "cell_type": "code",
   "execution_count": 8,
   "metadata": {},
   "outputs": [
    {
     "name": "stdout",
     "output_type": "stream",
     "text": [
      "Luke, I am your droid\n"
     ]
    }
   ],
   "source": [
    "relation_to_luke('R2D2')"
   ]
  },
  {
   "cell_type": "code",
   "execution_count": 10,
   "metadata": {},
   "outputs": [
    {
     "name": "stdout",
     "output_type": "stream",
     "text": [
      "Luke, I am your father\n"
     ]
    }
   ],
   "source": [
    "relation_to_luke('Darth Vader')"
   ]
  },
  {
   "cell_type": "code",
   "execution_count": null,
   "metadata": {},
   "outputs": [],
   "source": []
  }
 ],
 "metadata": {
  "kernelspec": {
   "display_name": "Python 3",
   "language": "python",
   "name": "python3"
  },
  "language_info": {
   "codemirror_mode": {
    "name": "ipython",
    "version": 3
   },
   "file_extension": ".py",
   "mimetype": "text/x-python",
   "name": "python",
   "nbconvert_exporter": "python",
   "pygments_lexer": "ipython3",
   "version": "3.8.3"
  }
 },
 "nbformat": 4,
 "nbformat_minor": 4
}
