{
 "cells": [
  {
   "cell_type": "markdown",
   "id": "69f4f590-d655-4935-bc8b-9c2605a8bb53",
   "metadata": {},
   "source": [
    "# Find the Highest Integer in the List Using Recursion"
   ]
  },
  {
   "cell_type": "markdown",
   "id": "92fb1a85-72c3-4dec-9b38-bcc711d82334",
   "metadata": {},
   "source": [
    "Create a function that finds the highest integer in the list using recursion.  \n",
    "\n",
    "Examples  \n",
    "find_highest([-1, 3, 5, 6, 99, 12, 2]) ➞ 99  \n",
    "\n",
    "find_highest([0, 12, 4, 87]) ➞ 87  \n",
    "\n",
    "find_highest([8]) ➞ 8  \n",
    "Notes\n",
    "Please use the recursion to solve this (not the max() method).  "
   ]
  },
  {
   "cell_type": "markdown",
   "id": "d73d2465-252a-4451-9d40-d9948cc62e49",
   "metadata": {},
   "source": [
    "# Solution"
   ]
  },
  {
   "cell_type": "code",
   "execution_count": 3,
   "id": "d79e9475-bd2f-4500-ae78-5535484d3fe8",
   "metadata": {},
   "outputs": [],
   "source": [
    "def find_highest(lst):\n",
    "    if len(lst) == 1:\n",
    "        return lst[0]\n",
    "    else:\n",
    "        if lst[-1] < lst[-2]:\n",
    "            lst.pop()\n",
    "        else:\n",
    "            lst.pop(-2)\n",
    "        return find_highest(lst)"
   ]
  },
  {
   "cell_type": "code",
   "execution_count": 5,
   "id": "87ca7dd2-2c8e-4e94-af0c-7e7262fea91b",
   "metadata": {},
   "outputs": [
    {
     "data": {
      "text/plain": [
       "87"
      ]
     },
     "execution_count": 5,
     "metadata": {},
     "output_type": "execute_result"
    }
   ],
   "source": [
    "find_highest([0, 12, 4, 87])"
   ]
  },
  {
   "cell_type": "code",
   "execution_count": 6,
   "id": "6e6e27e7-3778-4ca6-b8c6-ff0ce9d4afef",
   "metadata": {},
   "outputs": [
    {
     "data": {
      "text/plain": [
       "8"
      ]
     },
     "execution_count": 6,
     "metadata": {},
     "output_type": "execute_result"
    }
   ],
   "source": [
    "find_highest([8])"
   ]
  },
  {
   "cell_type": "code",
   "execution_count": 4,
   "id": "4a40c0b1-d977-4225-a5d2-08965f4d8a2d",
   "metadata": {},
   "outputs": [
    {
     "data": {
      "text/plain": [
       "99"
      ]
     },
     "execution_count": 4,
     "metadata": {},
     "output_type": "execute_result"
    }
   ],
   "source": [
    "find_highest([-1, 3, 5, 6, 99, 12, 2])"
   ]
  }
 ],
 "metadata": {
  "kernelspec": {
   "display_name": "Python 3 (ipykernel)",
   "language": "python",
   "name": "python3"
  },
  "language_info": {
   "codemirror_mode": {
    "name": "ipython",
    "version": 3
   },
   "file_extension": ".py",
   "mimetype": "text/x-python",
   "name": "python",
   "nbconvert_exporter": "python",
   "pygments_lexer": "ipython3",
   "version": "3.9.7"
  }
 },
 "nbformat": 4,
 "nbformat_minor": 5
}
