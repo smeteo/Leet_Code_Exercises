{
 "cells": [
  {
   "cell_type": "markdown",
   "id": "9b6a919d-6c3f-4e96-9c8b-86e3915142f7",
   "metadata": {},
   "source": [
    "### How Heavy Is It?"
   ]
  },
  {
   "cell_type": "markdown",
   "id": "8483792b-9d12-47ed-9e67-00b52d138bff",
   "metadata": {},
   "source": [
    "Given radius r and height h (in cm), calculate the mass of a cylinder when it's filled with water and the cylinder itself doesn't weigh anything. The desired output should be given in kg and rounded to two decimal places.\n",
    "\n",
    "How to solve:  \n",
    "\n",
    "Calculate the volume of the cylinder.  \n",
    "Convert cm³ into dm³.  \n",
    "1dm³ = 1L, 1L is 1Kg.  \n",
    "Examples  \n",
    "weight(4, 10) ➞ 0.5  \n",
    "\n",
    "weight(30, 60) ➞ 169.65  \n",
    "\n",
    "weight(15, 10) ➞ 7.07  \n",
    "Notes  \n",
    "I recommend importing math.  \n",
    "If you get stuck on a challenge, find help in Resources."
   ]
  },
  {
   "cell_type": "markdown",
   "id": "fb442c9e-e77e-440b-985e-b09dcf61dc12",
   "metadata": {},
   "source": [
    "### Solution"
   ]
  },
  {
   "cell_type": "code",
   "execution_count": 1,
   "id": "ff1a2095-deba-468e-a1b3-b5b57109c7db",
   "metadata": {},
   "outputs": [],
   "source": [
    "import math"
   ]
  },
  {
   "cell_type": "code",
   "execution_count": 5,
   "id": "9378d4ca-2d64-4797-92ff-2d90ea72b603",
   "metadata": {},
   "outputs": [],
   "source": [
    "def weight(r, h):\n",
    "    V = (math.pi)*(r**2)*h\n",
    "    return round(V*0.001,2)"
   ]
  },
  {
   "cell_type": "code",
   "execution_count": null,
   "id": "ed8582b1-4dba-470d-9836-3838d8466252",
   "metadata": {},
   "outputs": [],
   "source": [
    "0.001"
   ]
  },
  {
   "cell_type": "code",
   "execution_count": 6,
   "id": "0181d764-05f5-4cd0-9a85-b6ce239daaec",
   "metadata": {},
   "outputs": [
    {
     "data": {
      "text/plain": [
       "0.5"
      ]
     },
     "execution_count": 6,
     "metadata": {},
     "output_type": "execute_result"
    }
   ],
   "source": [
    "weight(4, 10)"
   ]
  },
  {
   "cell_type": "code",
   "execution_count": 7,
   "id": "85338f9b-2822-4c24-a3f8-194f9c2442d2",
   "metadata": {},
   "outputs": [
    {
     "data": {
      "text/plain": [
       "169.65"
      ]
     },
     "execution_count": 7,
     "metadata": {},
     "output_type": "execute_result"
    }
   ],
   "source": [
    "weight(30, 60)"
   ]
  },
  {
   "cell_type": "code",
   "execution_count": 8,
   "id": "bb98aa9a-00fd-4728-929b-5fc245adb422",
   "metadata": {},
   "outputs": [
    {
     "data": {
      "text/plain": [
       "7.07"
      ]
     },
     "execution_count": 8,
     "metadata": {},
     "output_type": "execute_result"
    }
   ],
   "source": [
    "weight(15, 10)"
   ]
  },
  {
   "cell_type": "code",
   "execution_count": null,
   "id": "613f5494-1327-40f7-af8e-3006a07b8111",
   "metadata": {},
   "outputs": [],
   "source": []
  }
 ],
 "metadata": {
  "kernelspec": {
   "display_name": "Python 3 (ipykernel)",
   "language": "python",
   "name": "python3"
  },
  "language_info": {
   "codemirror_mode": {
    "name": "ipython",
    "version": 3
   },
   "file_extension": ".py",
   "mimetype": "text/x-python",
   "name": "python",
   "nbconvert_exporter": "python",
   "pygments_lexer": "ipython3",
   "version": "3.8.12"
  }
 },
 "nbformat": 4,
 "nbformat_minor": 5
}
