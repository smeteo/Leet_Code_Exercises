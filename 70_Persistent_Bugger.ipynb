{
 "cells": [
  {
   "cell_type": "markdown",
   "id": "2117b329-fe14-4eaa-8c32-b1ca0232d993",
   "metadata": {},
   "source": [
    "# Persistent Bugger."
   ]
  },
  {
   "cell_type": "markdown",
   "id": "3c2f1d68-0afc-49ba-84e3-58f4f6714361",
   "metadata": {},
   "source": [
    "Write a function, persistence, that takes in a positive parameter num and returns its multiplicative persistence, which is the number of times you must multiply the digits in num until you reach a single digit.  \n",
    "\n",
    "For example (Input --> Output):  \n",
    "\n",
    "39 --> 3 (because 3*9 = 27, 2*7 = 14, 1*4 = 4 and 4 has only one digit)  \n",
    "999 --> 4 (because 9*9*9 = 729, 7*2*9 = 126, 1*2*6 = 12, and finally 1*2 = 2)  \n",
    "4 --> 0 (because 4 is already a one-digit number)  "
   ]
  },
  {
   "cell_type": "code",
   "execution_count": null,
   "id": "58cbcbe8-1098-4fdb-b94d-3277dc3a6046",
   "metadata": {},
   "outputs": [],
   "source": [
    "def persistence(n):"
   ]
  },
  {
   "cell_type": "code",
   "execution_count": 20,
   "id": "e30eb338-61d0-4edf-a505-9b200c25025e",
   "metadata": {},
   "outputs": [],
   "source": [
    "n=39"
   ]
  },
  {
   "cell_type": "code",
   "execution_count": null,
   "id": "236667b9-1bce-47b4-af56-7308542affff",
   "metadata": {},
   "outputs": [],
   "source": []
  },
  {
   "cell_type": "code",
   "execution_count": null,
   "id": "033aaeeb-929a-4306-8ded-e265e03f5a4f",
   "metadata": {},
   "outputs": [],
   "source": []
  },
  {
   "cell_type": "code",
   "execution_count": null,
   "id": "16bfe7be-e1b8-4de9-9e0f-861f24c4f91f",
   "metadata": {},
   "outputs": [],
   "source": []
  },
  {
   "cell_type": "code",
   "execution_count": null,
   "id": "5f9d40c7-2717-4f76-bf77-d3bcd4188144",
   "metadata": {},
   "outputs": [],
   "source": []
  },
  {
   "cell_type": "code",
   "execution_count": null,
   "id": "b084ad0d-87eb-4527-9f16-ec121636f171",
   "metadata": {},
   "outputs": [],
   "source": []
  },
  {
   "cell_type": "code",
   "execution_count": null,
   "id": "2608dfb4-6cc3-4236-aada-c232ed1ea756",
   "metadata": {},
   "outputs": [],
   "source": []
  },
  {
   "cell_type": "code",
   "execution_count": null,
   "id": "cd1eb87e-47ec-445c-9440-03e3652f72f1",
   "metadata": {},
   "outputs": [],
   "source": []
  },
  {
   "cell_type": "code",
   "execution_count": 19,
   "id": "18857827-1aa4-40cb-aec1-a486e79efcd9",
   "metadata": {},
   "outputs": [
    {
     "data": {
      "text/plain": [
       "(27, 1)"
      ]
     },
     "execution_count": 19,
     "metadata": {},
     "output_type": "execute_result"
    }
   ],
   "source": [
    "number=1\n",
    "step=0\n",
    "while n>0:\n",
    "    number = number * (n % 10)\n",
    "    n = n // 10\n",
    "    step=+1\n",
    "number,step        "
   ]
  },
  {
   "cell_type": "code",
   "execution_count": 26,
   "id": "fc00d795-1ec2-4042-ba6e-6292553e5622",
   "metadata": {},
   "outputs": [
    {
     "data": {
      "text/plain": [
       "(27, 1)"
      ]
     },
     "execution_count": 26,
     "metadata": {},
     "output_type": "execute_result"
    }
   ],
   "source": [
    "number=1\n",
    "step=0\n",
    "for i in str(n):\n",
    "    number=number*int(i)\n",
    "    step+=1\n",
    "number,step-1"
   ]
  },
  {
   "cell_type": "code",
   "execution_count": 30,
   "id": "1a2e8644-19b5-4fd1-bb83-ff1e4b45cc11",
   "metadata": {},
   "outputs": [
    {
     "ename": "KeyboardInterrupt",
     "evalue": "",
     "output_type": "error",
     "traceback": [
      "\u001b[1;31m---------------------------------------------------------------------------\u001b[0m",
      "\u001b[1;31mKeyboardInterrupt\u001b[0m                         Traceback (most recent call last)",
      "\u001b[1;32m~\\AppData\\Local\\Temp/ipykernel_20576/1354942274.py\u001b[0m in \u001b[0;36m<module>\u001b[1;34m\u001b[0m\n\u001b[0;32m      3\u001b[0m \u001b[1;32mwhile\u001b[0m \u001b[0mn\u001b[0m\u001b[1;33m>\u001b[0m\u001b[1;36m10\u001b[0m\u001b[1;33m:\u001b[0m\u001b[1;33m\u001b[0m\u001b[1;33m\u001b[0m\u001b[0m\n\u001b[0;32m      4\u001b[0m     \u001b[1;32mfor\u001b[0m \u001b[0mi\u001b[0m \u001b[1;32min\u001b[0m \u001b[0mstr\u001b[0m\u001b[1;33m(\u001b[0m\u001b[0mn\u001b[0m\u001b[1;33m)\u001b[0m\u001b[1;33m:\u001b[0m\u001b[1;33m\u001b[0m\u001b[1;33m\u001b[0m\u001b[0m\n\u001b[1;32m----> 5\u001b[1;33m         \u001b[0mnumber\u001b[0m\u001b[1;33m=\u001b[0m\u001b[0mnumber\u001b[0m\u001b[1;33m*\u001b[0m\u001b[0mint\u001b[0m\u001b[1;33m(\u001b[0m\u001b[0mn\u001b[0m\u001b[1;33m)\u001b[0m\u001b[1;33m\u001b[0m\u001b[1;33m\u001b[0m\u001b[0m\n\u001b[0m\u001b[0;32m      6\u001b[0m     \u001b[0mstep\u001b[0m\u001b[1;33m+=\u001b[0m\u001b[1;36m1\u001b[0m\u001b[1;33m\u001b[0m\u001b[1;33m\u001b[0m\u001b[0m\n\u001b[0;32m      7\u001b[0m \u001b[0mn\u001b[0m\u001b[1;33m=\u001b[0m\u001b[0mnumber\u001b[0m\u001b[1;33m\u001b[0m\u001b[1;33m\u001b[0m\u001b[0m\n",
      "\u001b[1;31mKeyboardInterrupt\u001b[0m: "
     ]
    }
   ],
   "source": [
    "number=1\n",
    "step=0\n",
    "while n>10:\n",
    "    for i in str(n):\n",
    "        number=number*int(n)\n",
    "    step+=1\n",
    "n=number\n",
    "number, step"
   ]
  },
  {
   "cell_type": "code",
   "execution_count": null,
   "id": "82c90655-fb41-4f66-a26e-7ec9507e90f9",
   "metadata": {},
   "outputs": [],
   "source": [
    "def getProduct(n):\n",
    " \n",
    "    product = 1\n",
    " \n",
    "    # Converting integer to string\n",
    "    num = str(n)\n",
    "     \n",
    "    # Traversing the string\n",
    "    for i in num:\n",
    "        product = product * int(i)"
   ]
  },
  {
   "cell_type": "code",
   "execution_count": 18,
   "id": "f4766c51-c800-4939-90a6-f5cefba56276",
   "metadata": {},
   "outputs": [
    {
     "data": {
      "text/plain": [
       "9"
      ]
     },
     "execution_count": 18,
     "metadata": {},
     "output_type": "execute_result"
    }
   ],
   "source": [
    "(n % 10)"
   ]
  },
  {
   "cell_type": "code",
   "execution_count": 3,
   "id": "110bebfc-f5d6-4d0d-87b6-d6612558a0b7",
   "metadata": {},
   "outputs": [
    {
     "data": {
      "text/plain": [
       "9"
      ]
     },
     "execution_count": 3,
     "metadata": {},
     "output_type": "execute_result"
    }
   ],
   "source": [
    "n%10"
   ]
  },
  {
   "cell_type": "code",
   "execution_count": 4,
   "id": "cc687e12-2be7-47cb-b415-815fcb8e64bf",
   "metadata": {},
   "outputs": [
    {
     "data": {
      "text/plain": [
       "3"
      ]
     },
     "execution_count": 4,
     "metadata": {},
     "output_type": "execute_result"
    }
   ],
   "source": [
    "n//10"
   ]
  },
  {
   "cell_type": "code",
   "execution_count": 7,
   "id": "e58c7a37-5e2d-449b-b064-d03872156566",
   "metadata": {},
   "outputs": [
    {
     "data": {
      "text/plain": [
       "3"
      ]
     },
     "execution_count": 7,
     "metadata": {},
     "output_type": "execute_result"
    }
   ],
   "source": [
    "321//100"
   ]
  },
  {
   "cell_type": "code",
   "execution_count": 8,
   "id": "f580d08b-b885-40ff-a040-e50c6a0ad67e",
   "metadata": {},
   "outputs": [
    {
     "data": {
      "text/plain": [
       "0"
      ]
     },
     "execution_count": 8,
     "metadata": {},
     "output_type": "execute_result"
    }
   ],
   "source": [
    "3//10"
   ]
  },
  {
   "cell_type": "code",
   "execution_count": null,
   "id": "8adc825c-bed6-470e-9d71-5c398ace20f1",
   "metadata": {},
   "outputs": [],
   "source": [
    "product = 1\n",
    " \n",
    "    while (n != 0):\n",
    "        product = product * (n % 10)\n",
    "        n = n // 10"
   ]
  }
 ],
 "metadata": {
  "kernelspec": {
   "display_name": "Python 3 (ipykernel)",
   "language": "python",
   "name": "python3"
  },
  "language_info": {
   "codemirror_mode": {
    "name": "ipython",
    "version": 3
   },
   "file_extension": ".py",
   "mimetype": "text/x-python",
   "name": "python",
   "nbconvert_exporter": "python",
   "pygments_lexer": "ipython3",
   "version": "3.9.7"
  }
 },
 "nbformat": 4,
 "nbformat_minor": 5
}
