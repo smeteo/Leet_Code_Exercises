{
 "cells": [
  {
   "cell_type": "markdown",
   "id": "2117b329-fe14-4eaa-8c32-b1ca0232d993",
   "metadata": {},
   "source": [
    "# Persistent Bugger."
   ]
  },
  {
   "cell_type": "markdown",
   "id": "3c2f1d68-0afc-49ba-84e3-58f4f6714361",
   "metadata": {},
   "source": [
    "Write a function, persistence, that takes in a positive parameter num and returns its multiplicative persistence, which is the number of times you must multiply the digits in num until you reach a single digit.  \n",
    "\n",
    "For example (Input --> Output):  \n",
    "\n",
    "39 --> 3 (because 3*9 = 27, 2*7 = 14, 1*4 = 4 and 4 has only one digit)  \n",
    "999 --> 4 (because 9*9*9 = 729, 7*2*9 = 126, 1*2*6 = 12, and finally 1*2 = 2)  \n",
    "4 --> 0 (because 4 is already a one-digit number)  "
   ]
  },
  {
   "cell_type": "code",
   "execution_count": null,
   "id": "58cbcbe8-1098-4fdb-b94d-3277dc3a6046",
   "metadata": {},
   "outputs": [],
   "source": []
  }
 ],
 "metadata": {
  "kernelspec": {
   "display_name": "Python 3 (ipykernel)",
   "language": "python",
   "name": "python3"
  },
  "language_info": {
   "codemirror_mode": {
    "name": "ipython",
    "version": 3
   },
   "file_extension": ".py",
   "mimetype": "text/x-python",
   "name": "python",
   "nbconvert_exporter": "python",
   "pygments_lexer": "ipython3",
   "version": "3.9.7"
  }
 },
 "nbformat": 4,
 "nbformat_minor": 5
}
