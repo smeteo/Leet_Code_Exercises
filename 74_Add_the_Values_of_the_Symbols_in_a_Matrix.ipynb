{
 "cells": [
  {
   "cell_type": "markdown",
   "id": "7648c835-73fe-4cf6-aa25-30e81fb5609d",
   "metadata": {},
   "source": [
    "# Add the Values of the Symbols in a Matrix"
   ]
  },
  {
   "cell_type": "markdown",
   "id": "b0626f97-b40c-4021-90b5-464dcab8e437",
   "metadata": {},
   "source": [
    "Write a function that takes a list of lists and returns the value of all of the symbols in it, where each symbol adds or takes something from the total score. Symbol values:  \n",
    "\n",
    "\\# = 5  \n",
    "O = 3  \n",
    "X = 1  \n",
    "! = -1  \n",
    "!! = -3  \n",
    "!!! = -5  \n",
    "A list of lists containing 2 #s, a O, and a !!! would equal (0 + 5 + 5 + 3 - 5) 8.  \n",
    "\n",
    "If the final score is negative, return 0 (e.g. 3 #s, 3 !!s, 2 !!!s and a X would be (0 + 5 + 5 + 5 - 3 - 3 - 3 - 5 - 5 + 1) -3, so return 0.  "
   ]
  },
  {
   "cell_type": "markdown",
   "id": "0f4b5053-09bb-467f-b774-a53f5e93f0c1",
   "metadata": {},
   "source": [
    "# Solution"
   ]
  },
  {
   "cell_type": "code",
   "execution_count": 20,
   "id": "d75e31c5-62d7-49f8-8370-b944531921d5",
   "metadata": {},
   "outputs": [],
   "source": [
    "def check_score(s):\n",
    "    dct = {\n",
    "'#' : 5,\n",
    "'O' : 3,\n",
    "'X' : 1,\n",
    "'!' : -1,\n",
    "'!!' : -3,\n",
    "'!!!' : -5\n",
    "}\n",
    "    res = sum([dct[j] for i in s for j in i])\n",
    "    if res>0:\n",
    "        return res\n",
    "    else:\n",
    "        return 0"
   ]
  },
  {
   "cell_type": "code",
   "execution_count": 21,
   "id": "127af80a-c21c-45af-95dd-8dc2a688faaf",
   "metadata": {},
   "outputs": [
    {
     "data": {
      "text/plain": [
       "2"
      ]
     },
     "execution_count": 21,
     "metadata": {},
     "output_type": "execute_result"
    }
   ],
   "source": [
    "check_score([\n",
    "  [\"#\", \"!\"],\n",
    "  [\"!!\", \"X\"]\n",
    "])"
   ]
  },
  {
   "cell_type": "code",
   "execution_count": 22,
   "id": "2d0ccb64-b041-4988-8f23-94e3933b48e3",
   "metadata": {},
   "outputs": [
    {
     "data": {
      "text/plain": [
       "0"
      ]
     },
     "execution_count": 22,
     "metadata": {},
     "output_type": "execute_result"
    }
   ],
   "source": [
    "check_score([\n",
    "  [\"!!!\", \"O\", \"!\"],\n",
    "  [\"X\", \"#\", \"!!!\"],\n",
    "  [\"!!\", \"X\", \"O\"]\n",
    "])"
   ]
  },
  {
   "cell_type": "code",
   "execution_count": 23,
   "id": "4145c37e-4ce6-4cc8-8109-788ce0ffb9cc",
   "metadata": {},
   "outputs": [
    {
     "data": {
      "text/plain": [
       "12"
      ]
     },
     "execution_count": 23,
     "metadata": {},
     "output_type": "execute_result"
    }
   ],
   "source": [
    "check_score([\n",
    "  [\"#\", \"O\", \"#\", \"!!\", \"X\", \"!!\", \"#\", \"O\", \"O\", \"!!\", \"#\", \"X\", \"#\", \"O\"],\n",
    "  [\"!!!\", \"!!!\", \"!!\", \"!!\", \"!\", \"!\", \"X\", \"!\", \"!!!\", \"O\", \"!\", \"!!!\", \"X\", \"#\"],\n",
    "  [\"#\", \"X\", \"#\", \"!!!\", \"!\", \"!!\", \"#\", \"#\", \"!!\", \"X\", \"!!\", \"!!!\", \"X\", \"O\"],\n",
    "  [\"!!\", \"X\", \"!!\", \"!!\", \"!!!\", \"#\", \"O\", \"O\", \"!!!\", \"#\", \"O\", \"O\", \"#\", \"!!\"],\n",
    "  [\"O\", \"X\", \"#\", \"!\", \"!\", \"X\", \"!!!\", \"O\", \"!!!\", \"!!\", \"O\", \"!\", \"O\", \"X\"],\n",
    "  [\"!!\", \"!!!\", \"X\", \"!!!\", \"!!\", \"!!\", \"!!!\", \"X\", \"O\", \"!\", \"#\", \"!!\", \"!!\", \"!!!\"],\n",
    "  [\"!!\", \"!!\", \"#\", \"O\", \"!\", \"!!\", \"!\", \"!!!\", \"#\", \"O\", \"#\", \"!\", \"#\", \"!!\"],\n",
    "  [\"X\", \"X\", \"O\", \"X\", \"!!!\", \"#\", \"!!!\", \"!!!\", \"X\", \"X\", \"X\", \"!\", \"#\", \"!!\"],\n",
    "  [\"O\", \"!!!\", \"!\", \"O\", \"#\", \"!\", \"!\", \"#\", \"X\", \"X\", \"#\", \"O\", \"!!\", \"!\"],\n",
    "  [\"X\", \"!\", \"!!\", \"#\", \"#\", \"X\", \"!!\", \"O\", \"!!\", \"X\", \"X\", \"!!\", \"#\", \"X\"],\n",
    "  [\"!\", \"!!\", \"!!\", \"O\", \"!!\", \"!!\", \"#\", \"#\", \"!\", \"!!!\", \"O\", \"!\", \"#\", \"#\"],\n",
    "  [\"!\", \"!!!\", \"!!\", \"X\", \"!!\", \"!!\", \"#\", \"!!!\", \"O\", \"!!\", \"!!!\", \"!\", \"!\", \"!\"],\n",
    "  [\"!!!\", \"!!!\", \"!!\", \"O\", \"!\", \"!\", \"!!!\", \"!!!\", \"!!\", \"!!\", \"X\", \"!\", \"#\", \"#\"],\n",
    "  [\"O\", \"O\", \"#\", \"O\", \"#\", \"!\", \"!!!\", \"X\", \"X\", \"O\", \"!\", \"!!!\", \"X\", \"O\"]\n",
    "])"
   ]
  },
  {
   "cell_type": "code",
   "execution_count": 24,
   "id": "4545417c-4d47-406f-b728-f55dda47f26f",
   "metadata": {},
   "outputs": [],
   "source": [
    "s = [\n",
    "  [\"#\", \"!\"],\n",
    "  [\"!!\", \"X\"]\n",
    "]"
   ]
  },
  {
   "cell_type": "code",
   "execution_count": 33,
   "id": "585bd0c9-8f79-4ecf-863f-f8e1e7587184",
   "metadata": {},
   "outputs": [
    {
     "data": {
      "text/plain": [
       "['Hello', 'World!', 'Whats', 'Up!']"
      ]
     },
     "execution_count": 33,
     "metadata": {},
     "output_type": "execute_result"
    }
   ],
   "source": [
    "text = [[\"Hello\", \"World!\"], [\"Whats\", \"Up!\"]]\n",
    "\n",
    "res = [word for words in text for word in words]\n",
    "res"
   ]
  },
  {
   "cell_type": "code",
   "execution_count": 45,
   "id": "bd09cae3-ca12-48ad-9964-94d8feec149e",
   "metadata": {},
   "outputs": [
    {
     "data": {
      "text/plain": [
       "[['H1'], ['H2', ['H9']], ['H3'], ['H4'], ['H5'], ['H6']]"
      ]
     },
     "execution_count": 45,
     "metadata": {},
     "output_type": "execute_result"
    }
   ],
   "source": [
    "text = [[['H1'],['H2',['H9']], ['H3']], [['H4'],['H5'],['H6']]]\n",
    "\n",
    "res = [word for words in text for word in words]\n",
    "res"
   ]
  },
  {
   "cell_type": "code",
   "execution_count": 46,
   "id": "76e4f845-c347-4c07-9cec-9f6cd64a55f9",
   "metadata": {},
   "outputs": [
    {
     "data": {
      "text/plain": [
       "['H1', 'H2', ['H9'], 'H3', 'H4', 'H5', 'H6']"
      ]
     },
     "execution_count": 46,
     "metadata": {},
     "output_type": "execute_result"
    }
   ],
   "source": [
    "[x for z in text for y in z for x in y]"
   ]
  },
  {
   "cell_type": "code",
   "execution_count": 44,
   "id": "eace0747-a927-407d-b7a4-84aec087b976",
   "metadata": {},
   "outputs": [
    {
     "data": {
      "text/plain": [
       "['H1', 'H2', 'H3', 'H4', 'H5', 'H6']"
      ]
     },
     "execution_count": 44,
     "metadata": {},
     "output_type": "execute_result"
    }
   ],
   "source": [
    "[letter for words in text for word in words for letter in word]"
   ]
  },
  {
   "cell_type": "code",
   "execution_count": 32,
   "id": "c95c3a65-9759-4475-9b4e-b83ff7a391f0",
   "metadata": {},
   "outputs": [
    {
     "ename": "NameError",
     "evalue": "name 'y' is not defined",
     "output_type": "error",
     "traceback": [
      "\u001b[1;31m---------------------------------------------------------------------------\u001b[0m",
      "\u001b[1;31mNameError\u001b[0m                                 Traceback (most recent call last)",
      "Input \u001b[1;32mIn [32]\u001b[0m, in \u001b[0;36m<cell line: 1>\u001b[1;34m()\u001b[0m\n\u001b[1;32m----> 1\u001b[0m [x \u001b[38;5;28;01mfor\u001b[39;00m x \u001b[38;5;129;01min\u001b[39;00m \u001b[43my\u001b[49m \u001b[38;5;28;01mfor\u001b[39;00m y \u001b[38;5;129;01min\u001b[39;00m s]\n",
      "\u001b[1;31mNameError\u001b[0m: name 'y' is not defined"
     ]
    }
   ],
   "source": [
    "[x for x in y for y in s]"
   ]
  },
  {
   "cell_type": "code",
   "execution_count": 31,
   "id": "66dec0b3-aa78-4760-9c68-cdae6693407f",
   "metadata": {},
   "outputs": [
    {
     "data": {
      "text/plain": [
       "['#', '!', '!!', 'X']"
      ]
     },
     "execution_count": 31,
     "metadata": {},
     "output_type": "execute_result"
    }
   ],
   "source": [
    "[x for y in s for x in y]"
   ]
  },
  {
   "cell_type": "code",
   "execution_count": 27,
   "id": "7c6d37dd-5031-4d5f-b5a3-d7813d4d4d31",
   "metadata": {},
   "outputs": [
    {
     "data": {
      "text/plain": [
       "['#', '!', '!!', 'X']"
      ]
     },
     "execution_count": 27,
     "metadata": {},
     "output_type": "execute_result"
    }
   ],
   "source": [
    "[x for y in s for x in y]"
   ]
  },
  {
   "cell_type": "code",
   "execution_count": 26,
   "id": "a01c1ad6-73b1-41d5-9623-adb9d6f6188d",
   "metadata": {},
   "outputs": [
    {
     "ename": "NameError",
     "evalue": "name 'x' is not defined",
     "output_type": "error",
     "traceback": [
      "\u001b[1;31m---------------------------------------------------------------------------\u001b[0m",
      "\u001b[1;31mNameError\u001b[0m                                 Traceback (most recent call last)",
      "Input \u001b[1;32mIn [26]\u001b[0m, in \u001b[0;36m<cell line: 1>\u001b[1;34m()\u001b[0m\n\u001b[1;32m----> 1\u001b[0m [y \u001b[38;5;28;01mfor\u001b[39;00m y \u001b[38;5;129;01min\u001b[39;00m \u001b[43mx\u001b[49m \u001b[38;5;28;01mfor\u001b[39;00m x \u001b[38;5;129;01min\u001b[39;00m s]\n",
      "\u001b[1;31mNameError\u001b[0m: name 'x' is not defined"
     ]
    }
   ],
   "source": [
    "[y for y in x for x in s]"
   ]
  },
  {
   "cell_type": "code",
   "execution_count": null,
   "id": "0ae9ccf7-65f1-4d68-8758-8ad68d31f72d",
   "metadata": {},
   "outputs": [],
   "source": []
  }
 ],
 "metadata": {
  "kernelspec": {
   "display_name": "Python 3 (ipykernel)",
   "language": "python",
   "name": "python3"
  },
  "language_info": {
   "codemirror_mode": {
    "name": "ipython",
    "version": 3
   },
   "file_extension": ".py",
   "mimetype": "text/x-python",
   "name": "python",
   "nbconvert_exporter": "python",
   "pygments_lexer": "ipython3",
   "version": "3.9.13"
  }
 },
 "nbformat": 4,
 "nbformat_minor": 5
}
