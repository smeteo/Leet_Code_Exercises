{
 "cells": [
  {
   "cell_type": "markdown",
   "id": "c5c36546-0b5f-4040-8912-7048010a0ca0",
   "metadata": {},
   "source": [
    "# Your order, please"
   ]
  },
  {
   "cell_type": "markdown",
   "id": "7fb56411-7383-42e3-af25-abe1fabf2e20",
   "metadata": {},
   "source": [
    "Your task is to sort a given string. Each word in the string will contain a single number. This number is the position the word should have in the result.  \n",
    "\n",
    "Note: Numbers can be from 1 to 9. So 1 will be the first word (not 0).  \n",
    "\n",
    "If the input string is empty, return an empty string. The words in the input String will only contain valid consecutive numbers.  \n",
    "\n",
    "Examples  \n",
    "\"is2 Thi1s T4est 3a\"  -->  \"Thi1s is2 3a T4est\"  \n",
    "\"4of Fo1r pe6ople g3ood th5e the2\"  -->  \"Fo1r the2 g3ood 4of th5e pe6ople\"  \n",
    "\"\"  -->  \"\"  "
   ]
  },
  {
   "cell_type": "markdown",
   "id": "3a48fe15-8800-43db-a889-1c63d067bd89",
   "metadata": {},
   "source": [
    "### Solution"
   ]
  },
  {
   "cell_type": "code",
   "execution_count": 1,
   "id": "aa5fa5e7-c64f-4be6-9046-50bfd828a488",
   "metadata": {},
   "outputs": [],
   "source": [
    "def order(sentence):\n",
    "    new_order=[]\n",
    "    for i in range(10):\n",
    "        for x in sentence.split():\n",
    "            if str(i) in x:\n",
    "                new_order.append(x)\n",
    "    return ' '.join(new_order)"
   ]
  },
  {
   "cell_type": "code",
   "execution_count": 2,
   "id": "a07bd0f8-7fd6-402f-a1b9-af772afb9898",
   "metadata": {},
   "outputs": [
    {
     "data": {
      "text/plain": [
       "'Thi1s is2 3a T4est'"
      ]
     },
     "execution_count": 2,
     "metadata": {},
     "output_type": "execute_result"
    }
   ],
   "source": [
    "order(\"is2 Thi1s T4est 3a\")"
   ]
  },
  {
   "cell_type": "code",
   "execution_count": 3,
   "id": "efa69cce-1778-4fc2-96f9-182036a2afae",
   "metadata": {},
   "outputs": [
    {
     "data": {
      "text/plain": [
       "'Fo1r the2 g3ood 4of th5e pe6ople'"
      ]
     },
     "execution_count": 3,
     "metadata": {},
     "output_type": "execute_result"
    }
   ],
   "source": [
    "order(\"4of Fo1r pe6ople g3ood th5e the2\")"
   ]
  },
  {
   "cell_type": "code",
   "execution_count": 4,
   "id": "a1db7aa6-fe9c-4753-8248-e91e3aa40b7d",
   "metadata": {},
   "outputs": [
    {
     "data": {
      "text/plain": [
       "''"
      ]
     },
     "execution_count": 4,
     "metadata": {},
     "output_type": "execute_result"
    }
   ],
   "source": [
    "order(\"\")"
   ]
  },
  {
   "cell_type": "markdown",
   "id": "b4192d85-31e1-4bda-8cc8-04d5aa25d404",
   "metadata": {},
   "source": [
    "### Alternative"
   ]
  },
  {
   "cell_type": "code",
   "execution_count": 5,
   "id": "9876c261-54a7-4054-9ba4-98b0bf86fe89",
   "metadata": {},
   "outputs": [],
   "source": [
    "def order(words):\n",
    "    return ' '.join(sorted(words.split(), key=lambda w:sorted(w)))"
   ]
  },
  {
   "cell_type": "code",
   "execution_count": 6,
   "id": "87a2e2eb-7b85-42f1-85f4-d8107efa03e2",
   "metadata": {},
   "outputs": [
    {
     "data": {
      "text/plain": [
       "'Fo1r the2 g3ood 4of th5e pe6ople'"
      ]
     },
     "execution_count": 6,
     "metadata": {},
     "output_type": "execute_result"
    }
   ],
   "source": [
    "order(\"4of Fo1r pe6ople g3ood th5e the2\")"
   ]
  }
 ],
 "metadata": {
  "kernelspec": {
   "display_name": "Python 3 (ipykernel)",
   "language": "python",
   "name": "python3"
  },
  "language_info": {
   "codemirror_mode": {
    "name": "ipython",
    "version": 3
   },
   "file_extension": ".py",
   "mimetype": "text/x-python",
   "name": "python",
   "nbconvert_exporter": "python",
   "pygments_lexer": "ipython3",
   "version": "3.9.7"
  }
 },
 "nbformat": 4,
 "nbformat_minor": 5
}
