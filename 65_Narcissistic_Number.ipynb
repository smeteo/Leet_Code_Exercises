{
 "cells": [
  {
   "cell_type": "markdown",
   "id": "bd779362-b207-4e28-bf63-09c7d3339568",
   "metadata": {},
   "source": [
    "# Narcissistic Number"
   ]
  },
  {
   "cell_type": "markdown",
   "id": "ec645c43-0b84-4764-920b-2b190b1c0c64",
   "metadata": {},
   "source": [
    "A Narcissistic Number is a positive number which is the sum of its own digits, each raised to the power of the number of digits in a given base. In this Kata, we will restrict ourselves to decimal (base 10).  \n",
    "\n",
    "For example, take 153 (3 digits), which is narcisstic:  \n",
    "\n",
    "    1^3 + 5^3 + 3^3 = 1 + 125 + 27 = 153  \n",
    "and 1652 (4 digits), which isn't:  \n",
    "  \n",
    "    1^4 + 6^4 + 5^4 + 2^4 = 1 + 1296 + 625 + 16 = 1938  \n",
    "The Challenge:  \n",
    "  \n",
    "Your code must return true or false (not 'true' and 'false') depending upon whether the given number is a Narcissistic number in base 10. This may be True and False in your language, e.g. PHP.  \n",
    "\n",
    "Error checking for text strings or other invalid inputs is not required, only valid positive non-zero integers will be passed into the function.  "
   ]
  },
  {
   "cell_type": "markdown",
   "id": "e9623674-ddaf-40cc-9ad7-ec34f1fabc85",
   "metadata": {},
   "source": [
    "### Solution"
   ]
  },
  {
   "cell_type": "code",
   "execution_count": 35,
   "id": "1050518b-d720-48e9-8b27-269e95828478",
   "metadata": {},
   "outputs": [],
   "source": [
    "def narcissistic(value):\n",
    "    digit = len(str(value))\n",
    "    result = 0\n",
    "    for i in str(value):\n",
    "        result+=int(i)**digit\n",
    "    if result == value:\n",
    "        return True\n",
    "    else:\n",
    "        return False   \n",
    "    "
   ]
  },
  {
   "cell_type": "code",
   "execution_count": 36,
   "id": "e4733a22-01b3-4582-a437-c643fe6352e9",
   "metadata": {},
   "outputs": [
    {
     "data": {
      "text/plain": [
       "True"
      ]
     },
     "execution_count": 36,
     "metadata": {},
     "output_type": "execute_result"
    }
   ],
   "source": [
    "narcissistic(153)"
   ]
  },
  {
   "cell_type": "code",
   "execution_count": 37,
   "id": "535d389e-4fb3-4b2e-b4d3-60b188b2ccd1",
   "metadata": {},
   "outputs": [
    {
     "data": {
      "text/plain": [
       "False"
      ]
     },
     "execution_count": 37,
     "metadata": {},
     "output_type": "execute_result"
    }
   ],
   "source": [
    "narcissistic(1652)"
   ]
  },
  {
   "cell_type": "code",
   "execution_count": 38,
   "id": "fd55fb53-f588-4329-88d3-07d5488af165",
   "metadata": {},
   "outputs": [
    {
     "data": {
      "text/plain": [
       "True"
      ]
     },
     "execution_count": 38,
     "metadata": {},
     "output_type": "execute_result"
    }
   ],
   "source": [
    "narcissistic(6)"
   ]
  },
  {
   "cell_type": "code",
   "execution_count": 40,
   "id": "d2ac1e5d-6eff-4adb-8dc8-c168ee7b46fc",
   "metadata": {},
   "outputs": [
    {
     "data": {
      "text/plain": [
       "True"
      ]
     },
     "execution_count": 40,
     "metadata": {},
     "output_type": "execute_result"
    }
   ],
   "source": [
    "narcissistic(371)"
   ]
  },
  {
   "cell_type": "markdown",
   "id": "42f8729e-e81d-4f56-ac89-0285dd8c8109",
   "metadata": {},
   "source": [
    "### Alternative"
   ]
  },
  {
   "cell_type": "code",
   "execution_count": 41,
   "id": "1196ef2f-84ac-43b9-98f8-0cbc20a59fb5",
   "metadata": {},
   "outputs": [],
   "source": [
    "def narcissistic(value):\n",
    "    return value == sum(int(x) ** len(str(value)) for x in str(value))"
   ]
  },
  {
   "cell_type": "code",
   "execution_count": 42,
   "id": "6abac915-9243-4bd6-ae50-790f8d3e5001",
   "metadata": {},
   "outputs": [
    {
     "data": {
      "text/plain": [
       "True"
      ]
     },
     "execution_count": 42,
     "metadata": {},
     "output_type": "execute_result"
    }
   ],
   "source": [
    "narcissistic(371)"
   ]
  },
  {
   "cell_type": "code",
   "execution_count": 43,
   "id": "a436f92b-23b0-46f8-aa22-71c9d9b4a8f5",
   "metadata": {},
   "outputs": [
    {
     "data": {
      "text/plain": [
       "False"
      ]
     },
     "execution_count": 43,
     "metadata": {},
     "output_type": "execute_result"
    }
   ],
   "source": [
    "narcissistic(1652)"
   ]
  },
  {
   "cell_type": "code",
   "execution_count": null,
   "id": "af82d8ab-1c88-46ae-a629-d75b5057af7c",
   "metadata": {},
   "outputs": [],
   "source": []
  }
 ],
 "metadata": {
  "kernelspec": {
   "display_name": "Python 3 (ipykernel)",
   "language": "python",
   "name": "python3"
  },
  "language_info": {
   "codemirror_mode": {
    "name": "ipython",
    "version": 3
   },
   "file_extension": ".py",
   "mimetype": "text/x-python",
   "name": "python",
   "nbconvert_exporter": "python",
   "pygments_lexer": "ipython3",
   "version": "3.9.7"
  }
 },
 "nbformat": 4,
 "nbformat_minor": 5
}
