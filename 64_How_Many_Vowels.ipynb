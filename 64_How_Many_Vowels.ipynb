{
 "cells": [
  {
   "cell_type": "markdown",
   "id": "84207872-154e-4296-b342-65c2fc0e1704",
   "metadata": {},
   "source": [
    "### How Many Vowels?"
   ]
  },
  {
   "cell_type": "markdown",
   "id": "4635a7a1-d9e1-45b2-a10a-6bf37353456d",
   "metadata": {},
   "source": [
    "Create a function that takes a string and returns the number (count) of vowels contained within it.  \n",
    "\n",
    "Examples  \n",
    "count_vowels(\"Celebration\") ➞ 5  \n",
    "\n",
    "count_vowels(\"Palm\") ➞ 1  \n",
    "\n",
    "count_vowels(\"Prediction\") ➞ 4  \n",
    "Notes  \n",
    "a, e, i, o, u are considered vowels (not y).  \n",
    "All test cases are one word and only contain letters."
   ]
  },
  {
   "cell_type": "markdown",
   "id": "ec2dad1c-7433-4e76-916c-062ca55ddf9a",
   "metadata": {},
   "source": [
    "### Solution"
   ]
  },
  {
   "cell_type": "code",
   "execution_count": 9,
   "id": "f40341db-22d3-4304-ab96-936055500622",
   "metadata": {},
   "outputs": [],
   "source": [
    "vovels = ['a', 'e', 'i', 'o', 'u']\n",
    "def count_vowels(txt):\n",
    "    a=0\n",
    "    for i in txt:\n",
    "        if i.lower() in vovels:\n",
    "            a+=1\n",
    "    return a"
   ]
  },
  {
   "cell_type": "code",
   "execution_count": 10,
   "id": "4ce6e7b1-e8c4-450d-bec1-71dcf2607d82",
   "metadata": {},
   "outputs": [
    {
     "data": {
      "text/plain": [
       "5"
      ]
     },
     "execution_count": 10,
     "metadata": {},
     "output_type": "execute_result"
    }
   ],
   "source": [
    "count_vowels(\"Celebration\")"
   ]
  },
  {
   "cell_type": "code",
   "execution_count": 11,
   "id": "fe4b81f3-f415-4144-8bc0-5d6b581dd1b8",
   "metadata": {},
   "outputs": [
    {
     "data": {
      "text/plain": [
       "1"
      ]
     },
     "execution_count": 11,
     "metadata": {},
     "output_type": "execute_result"
    }
   ],
   "source": [
    "count_vowels(\"Palm\")"
   ]
  },
  {
   "cell_type": "code",
   "execution_count": 12,
   "id": "875e89f0-1c2a-4335-8ff9-30e3c8461679",
   "metadata": {},
   "outputs": [
    {
     "data": {
      "text/plain": [
       "4"
      ]
     },
     "execution_count": 12,
     "metadata": {},
     "output_type": "execute_result"
    }
   ],
   "source": [
    "count_vowels(\"Prediction\")"
   ]
  },
  {
   "cell_type": "code",
   "execution_count": 13,
   "id": "c02951ed-a252-422f-9fec-f09816f2ef16",
   "metadata": {},
   "outputs": [
    {
     "data": {
      "text/plain": [
       "4"
      ]
     },
     "execution_count": 13,
     "metadata": {},
     "output_type": "execute_result"
    }
   ],
   "source": [
    "count_vowels(\"PredictIOn\")"
   ]
  }
 ],
 "metadata": {
  "kernelspec": {
   "display_name": "Python 3 (ipykernel)",
   "language": "python",
   "name": "python3"
  },
  "language_info": {
   "codemirror_mode": {
    "name": "ipython",
    "version": 3
   },
   "file_extension": ".py",
   "mimetype": "text/x-python",
   "name": "python",
   "nbconvert_exporter": "python",
   "pygments_lexer": "ipython3",
   "version": "3.8.12"
  }
 },
 "nbformat": 4,
 "nbformat_minor": 5
}
