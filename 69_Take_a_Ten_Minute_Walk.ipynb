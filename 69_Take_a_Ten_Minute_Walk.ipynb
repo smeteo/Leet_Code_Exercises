{
 "cells": [
  {
   "cell_type": "markdown",
   "id": "9442651e-7af1-4cfb-aa5a-019f9b8420ac",
   "metadata": {},
   "source": [
    "# Take a Ten Minute Walk"
   ]
  },
  {
   "cell_type": "markdown",
   "id": "a71786e2-f18e-44ef-a38c-a394e363adad",
   "metadata": {},
   "source": [
    "You live in the city of Cartesia where all roads are laid out in a perfect grid. You arrived ten minutes too early to an appointment, so you decided to take the opportunity to go for a short walk. The city provides its citizens with a Walk Generating App on their phones -- everytime you press the button it sends you an array of one-letter strings representing directions to walk (eg. ['n', 's', 'w', 'e']). You always walk only a single block for each letter (direction) and you know it takes you one minute to traverse one city block, so create a function that will return true if the walk the app gives you will take you exactly ten minutes (you don't want to be early or late!) and will, of course, return you to your starting point. Return false otherwise.\n",
    "\n",
    "Note: you will always receive a valid array containing a random assortment of direction letters ('n', 's', 'e', or 'w' only). It will never give you an empty array (that's not a walk, that's standing still!)."
   ]
  },
  {
   "cell_type": "code",
   "execution_count": 10,
   "id": "38333db7-f22e-4d32-92d2-6dbb3ed6c676",
   "metadata": {},
   "outputs": [],
   "source": [
    "def is_valid_walk(walk):\n",
    "    if walk.count('s')==walk.count('n') and walk.count('e')==walk.count('w') and len(walk)==10:\n",
    "        return True\n",
    "    else:\n",
    "        return False\n",
    "    #determine if walk is valid"
   ]
  },
  {
   "cell_type": "code",
   "execution_count": 11,
   "id": "580d0ea5-a4d0-4f6b-b693-d2ff3fc6c861",
   "metadata": {},
   "outputs": [
    {
     "data": {
      "text/plain": [
       "True"
      ]
     },
     "execution_count": 11,
     "metadata": {},
     "output_type": "execute_result"
    }
   ],
   "source": [
    "is_valid_walk(['n','s','n','s','n','s','n','s','n','s'])"
   ]
  },
  {
   "cell_type": "code",
   "execution_count": 12,
   "id": "c0be77bb-f102-4566-9d82-f3e7ca6f9860",
   "metadata": {},
   "outputs": [
    {
     "data": {
      "text/plain": [
       "False"
      ]
     },
     "execution_count": 12,
     "metadata": {},
     "output_type": "execute_result"
    }
   ],
   "source": [
    "is_valid_walk(['w','e','w','e','w','e','w','e','w','e','w','e'])"
   ]
  },
  {
   "cell_type": "code",
   "execution_count": 13,
   "id": "5ad6a18e-1235-4833-af1f-12fa5487d63b",
   "metadata": {},
   "outputs": [
    {
     "data": {
      "text/plain": [
       "False"
      ]
     },
     "execution_count": 13,
     "metadata": {},
     "output_type": "execute_result"
    }
   ],
   "source": [
    "is_valid_walk(['n','n','n','s','n','s','n','s','n','s'])"
   ]
  },
  {
   "cell_type": "code",
   "execution_count": 14,
   "id": "9e5e9ecc-0266-4df1-9265-12632e5b539f",
   "metadata": {},
   "outputs": [
    {
     "data": {
      "text/plain": [
       "False"
      ]
     },
     "execution_count": 14,
     "metadata": {},
     "output_type": "execute_result"
    }
   ],
   "source": [
    "is_valid_walk(['w'])"
   ]
  },
  {
   "cell_type": "code",
   "execution_count": null,
   "id": "33621e55-62e2-421a-862e-896d651a3603",
   "metadata": {},
   "outputs": [],
   "source": []
  },
  {
   "cell_type": "code",
   "execution_count": null,
   "id": "b4e4eae7-8529-4908-aff7-fe662ea01daa",
   "metadata": {},
   "outputs": [],
   "source": [
    "walk =['n','s','n','s','n','s','n','s','n','s']"
   ]
  },
  {
   "cell_type": "code",
   "execution_count": 2,
   "id": "94d6df2c-2491-4622-9c92-3ae0874e2710",
   "metadata": {},
   "outputs": [
    {
     "data": {
      "text/plain": [
       "10"
      ]
     },
     "execution_count": 2,
     "metadata": {},
     "output_type": "execute_result"
    }
   ],
   "source": [
    "len(walk)"
   ]
  },
  {
   "cell_type": "code",
   "execution_count": 3,
   "id": "1397654d-702a-431d-ac26-14f1533d1ec6",
   "metadata": {},
   "outputs": [
    {
     "data": {
      "text/plain": [
       "5"
      ]
     },
     "execution_count": 3,
     "metadata": {},
     "output_type": "execute_result"
    }
   ],
   "source": [
    "walk.count('s')"
   ]
  },
  {
   "cell_type": "code",
   "execution_count": 4,
   "id": "37e31d34-6389-4d7f-8586-321501c1e982",
   "metadata": {},
   "outputs": [
    {
     "data": {
      "text/plain": [
       "0"
      ]
     },
     "execution_count": 4,
     "metadata": {},
     "output_type": "execute_result"
    }
   ],
   "source": [
    "walk.count('o')"
   ]
  },
  {
   "cell_type": "code",
   "execution_count": null,
   "id": "204ad487-746e-4183-92cd-6d7017b1baa9",
   "metadata": {},
   "outputs": [],
   "source": []
  }
 ],
 "metadata": {
  "kernelspec": {
   "display_name": "Python 3 (ipykernel)",
   "language": "python",
   "name": "python3"
  },
  "language_info": {
   "codemirror_mode": {
    "name": "ipython",
    "version": 3
   },
   "file_extension": ".py",
   "mimetype": "text/x-python",
   "name": "python",
   "nbconvert_exporter": "python",
   "pygments_lexer": "ipython3",
   "version": "3.9.7"
  }
 },
 "nbformat": 4,
 "nbformat_minor": 5
}
