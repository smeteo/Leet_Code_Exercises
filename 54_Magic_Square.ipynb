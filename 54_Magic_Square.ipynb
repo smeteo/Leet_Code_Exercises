{
 "cells": [
  {
   "cell_type": "markdown",
   "metadata": {},
   "source": [
    "# Magic Square"
   ]
  },
  {
   "cell_type": "markdown",
   "metadata": {},
   "source": [
    "In recreational mathematics, a square array of numbers, usually positive integers, is called a magic square if the sums of the numbers in each row, each column, and both main diagonals are the same.  \n",
    "\n",
    "Create a function that takes a square list as an argument and returns a Boolean (if it is: True, if it isn't: False).  \n",
    "\n",
    "Examples  \n",
    "is_magic_square([  \n",
    "  [2, 7, 6],  \n",
    "  [9, 5, 1],  \n",
    "  [4, 3, 8]  \n",
    "]) ➞ True  \n",
    "\n",
    "is_magic_square([  \n",
    "  [16, 3, 2, 13],  \n",
    "  [5, 10, 11, 8],  \n",
    "  [9, 6, 7, 12],  \n",
    "  [4, 15, 14, 1]  \n",
    "]) ➞ True  \n",
    "\n",
    "is_magic_square([  \n",
    "  [1, 14, 14, 4],  \n",
    "  [11, 7, 6, 9],  \n",
    "  [8, 11, 10, 5],  \n",
    "  [13, 2, 3, 15]  \n",
    "]) ➞ False  "
   ]
  },
  {
   "cell_type": "markdown",
   "metadata": {},
   "source": [
    "# Solution"
   ]
  },
  {
   "cell_type": "code",
   "execution_count": 61,
   "metadata": {},
   "outputs": [],
   "source": [
    "def is_magic_square(arr):\n",
    "    DiagSum = sum([arr[i][i] for i in range(len(arr))])\n",
    "    if all([True if i==DiagSum else False for i in [sum(x) for x in zip(*arr)]]) and all([True if i==DiagSum else False for i in [sum(x) for x in arr]]):\n",
    "        return True\n",
    "    else:\n",
    "        return False"
   ]
  },
  {
   "cell_type": "code",
   "execution_count": 69,
   "metadata": {},
   "outputs": [
    {
     "data": {
      "text/plain": [
       "True"
      ]
     },
     "execution_count": 69,
     "metadata": {},
     "output_type": "execute_result"
    }
   ],
   "source": [
    "is_magic_square([\n",
    "  [2, 7, 6],\n",
    "  [9, 5, 1],\n",
    "  [4, 3, 8]\n",
    "])"
   ]
  },
  {
   "cell_type": "code",
   "execution_count": 70,
   "metadata": {},
   "outputs": [
    {
     "data": {
      "text/plain": [
       "True"
      ]
     },
     "execution_count": 70,
     "metadata": {},
     "output_type": "execute_result"
    }
   ],
   "source": [
    "is_magic_square([\n",
    "  [16, 3, 2, 13],\n",
    "  [5, 10, 11, 8],\n",
    "  [9, 6, 7, 12],\n",
    "  [4, 15, 14, 1]\n",
    "])"
   ]
  },
  {
   "cell_type": "code",
   "execution_count": 71,
   "metadata": {},
   "outputs": [
    {
     "data": {
      "text/plain": [
       "False"
      ]
     },
     "execution_count": 71,
     "metadata": {},
     "output_type": "execute_result"
    }
   ],
   "source": [
    "is_magic_square([\n",
    "  [1, 14, 14, 4],\n",
    "  [11, 7, 6, 9],\n",
    "  [8, 11, 10, 5],\n",
    "  [13, 2, 3, 15]\n",
    "])"
   ]
  }
 ],
 "metadata": {
  "kernelspec": {
   "display_name": "Python 3",
   "language": "python",
   "name": "python3"
  },
  "language_info": {
   "codemirror_mode": {
    "name": "ipython",
    "version": 3
   },
   "file_extension": ".py",
   "mimetype": "text/x-python",
   "name": "python",
   "nbconvert_exporter": "python",
   "pygments_lexer": "ipython3",
   "version": "3.8.5"
  }
 },
 "nbformat": 4,
 "nbformat_minor": 4
}
