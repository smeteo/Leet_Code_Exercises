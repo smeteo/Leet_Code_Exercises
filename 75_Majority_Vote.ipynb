{
 "cells": [
  {
   "cell_type": "markdown",
   "id": "6b65766a-32b1-41f7-8aef-0a77fafbc03e",
   "metadata": {},
   "source": [
    "# Majority Vote"
   ]
  },
  {
   "cell_type": "markdown",
   "id": "3f4eb598-c012-403b-9ee2-9e602720264e",
   "metadata": {},
   "source": [
    "Create a function that returns the majority vote in a list. A majority vote is an element that occurs > N/2 times in a list (where N is the length of the list).  \n",
    "\n",
    "Examples  \n",
    "majority_vote([\"A\", \"A\", \"B\"]) ➞ \"A\"  \n",
    "\n",
    "majority_vote([\"A\", \"A\", \"A\", \"B\", \"C\", \"A\"]) ➞ \"A\"  \n",
    "\n",
    "majority_vote([\"A\", \"B\", \"B\", \"A\", \"C\", \"C\"]) ➞ None  \n",
    "Notes  \n",
    "The frequency of the majority element must be strictly greater than 1/2.  \n",
    "If there is no majority element, return None.  \n",
    "If the list is empty, return None.  "
   ]
  },
  {
   "cell_type": "markdown",
   "id": "936436bb-4207-4e2e-a195-fe675a77f1f1",
   "metadata": {},
   "source": [
    "# Solution"
   ]
  },
  {
   "cell_type": "code",
   "execution_count": 27,
   "id": "40e2e7fb-aaca-4865-ae13-0fcfacb909a7",
   "metadata": {},
   "outputs": [],
   "source": [
    "def majority_vote(lst):\n",
    "    for i in set(lst):\n",
    "        if lst.count(i) > len(lst)/2:\n",
    "            return i\n",
    "    return None"
   ]
  },
  {
   "cell_type": "code",
   "execution_count": 28,
   "id": "33ab7ed8-98cc-4e30-80d2-29a2c50734e7",
   "metadata": {},
   "outputs": [
    {
     "data": {
      "text/plain": [
       "'A'"
      ]
     },
     "execution_count": 28,
     "metadata": {},
     "output_type": "execute_result"
    }
   ],
   "source": [
    "majority_vote([\"A\", \"A\", \"B\"])"
   ]
  },
  {
   "cell_type": "code",
   "execution_count": 29,
   "id": "6cad75bf-848b-4cde-88aa-b0a8692af8eb",
   "metadata": {},
   "outputs": [
    {
     "data": {
      "text/plain": [
       "'A'"
      ]
     },
     "execution_count": 29,
     "metadata": {},
     "output_type": "execute_result"
    }
   ],
   "source": [
    "majority_vote([\"A\", \"A\", \"A\", \"B\", \"C\", \"A\"])"
   ]
  },
  {
   "cell_type": "code",
   "execution_count": 30,
   "id": "77a78df0-a88c-4b5c-97d4-3ced2f0d3e0f",
   "metadata": {},
   "outputs": [],
   "source": [
    "majority_vote([\"A\", \"B\", \"B\", \"A\", \"C\", \"C\"])"
   ]
  },
  {
   "cell_type": "code",
   "execution_count": null,
   "id": "994d0334-663e-44ad-9b54-ee4b360d7e31",
   "metadata": {},
   "outputs": [],
   "source": []
  }
 ],
 "metadata": {
  "kernelspec": {
   "display_name": "Python 3 (ipykernel)",
   "language": "python",
   "name": "python3"
  },
  "language_info": {
   "codemirror_mode": {
    "name": "ipython",
    "version": 3
   },
   "file_extension": ".py",
   "mimetype": "text/x-python",
   "name": "python",
   "nbconvert_exporter": "python",
   "pygments_lexer": "ipython3",
   "version": "3.9.13"
  }
 },
 "nbformat": 4,
 "nbformat_minor": 5
}
