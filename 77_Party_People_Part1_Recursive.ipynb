{
 "cells": [
  {
   "cell_type": "markdown",
   "id": "10b1a852-f468-43f0-bbfb-b70b57d3fede",
   "metadata": {},
   "source": [
    "# Party People Part I: Make it Recursive"
   ]
  },
  {
   "cell_type": "markdown",
   "id": "c9e5b019-0137-4f0c-9d56-c0a5516d90dc",
   "metadata": {},
   "source": [
    "Ava, Mark, Sheila, and Pete are at a party. However, Ava and Sheila are only staying if there are at least 4 people, Pete is only staying if there's 1 person, and Mark is only staying if there are at least 5 people. Therefore, Mark leaves, which makes Ava and Sheila leave, and Pete is left alone.  \n",
    "\n",
    "Given a list with the preferences of every person at a party for the minimum number of people present, determine how many people will stay.  \n",
    "\n",
    "It is required that you solve this challenge recursively.  \n",
    "\n",
    "Examples  \n",
    "party_people([4, 5, 4, 1]) ➞ 1  \n",
    "Ava's minimum number is 4, Mark's is 5, Sheila's is 4, and Pete's is 1.  \n",
    "Only 1 person (Pete) stays.  \n",
    "\n",
    "party_people([10, 12, 15, 15, 5]) ➞ 0  \n",
    "\n",
    "party_people([2, 1, 2, 0]) ➞ 4  \n",
    "Notes  \n",
    "All attendees are included in the list.  \n",
    "Any person's count includes themself.  \n",
    "Expect valid input only.  \n",
    "For the iterative version of this challenge, check out Part II.  "
   ]
  },
  {
   "cell_type": "markdown",
   "id": "f54811ca-3b20-4b5e-8af5-45792e6bc71a",
   "metadata": {},
   "source": [
    "# Solution"
   ]
  },
  {
   "cell_type": "code",
   "execution_count": 58,
   "id": "56c6e34b-69bf-49ce-bda0-09266161a109",
   "metadata": {},
   "outputs": [],
   "source": [
    "def party_people(lst):\n",
    "    if len(lst) == 0:\n",
    "        return 0\n",
    "    elif len(lst) >= max(lst):\n",
    "        return len(lst)\n",
    "    else:\n",
    "        lst.pop(lst.index(max(lst)))\n",
    "        return party_people(lst)"
   ]
  },
  {
   "cell_type": "code",
   "execution_count": 59,
   "id": "43338e3a-dccb-4c9d-8393-2df3a4964a4c",
   "metadata": {},
   "outputs": [
    {
     "data": {
      "text/plain": [
       "1"
      ]
     },
     "execution_count": 59,
     "metadata": {},
     "output_type": "execute_result"
    }
   ],
   "source": [
    "party_people([4, 5, 4, 1])"
   ]
  },
  {
   "cell_type": "code",
   "execution_count": 60,
   "id": "af4f10dc-1ee4-436a-9039-1b49b03228d8",
   "metadata": {},
   "outputs": [
    {
     "data": {
      "text/plain": [
       "0"
      ]
     },
     "execution_count": 60,
     "metadata": {},
     "output_type": "execute_result"
    }
   ],
   "source": [
    "party_people([10, 12, 15, 15, 5])"
   ]
  },
  {
   "cell_type": "code",
   "execution_count": 61,
   "id": "577331c5-671a-4c85-89a9-417fc188125a",
   "metadata": {},
   "outputs": [
    {
     "data": {
      "text/plain": [
       "4"
      ]
     },
     "execution_count": 61,
     "metadata": {},
     "output_type": "execute_result"
    }
   ],
   "source": [
    "party_people([2, 1, 2, 0]) "
   ]
  },
  {
   "cell_type": "code",
   "execution_count": null,
   "id": "5299aeca-63ab-477b-937d-fa87b46c6e1f",
   "metadata": {},
   "outputs": [],
   "source": []
  }
 ],
 "metadata": {
  "kernelspec": {
   "display_name": "Python 3 (ipykernel)",
   "language": "python",
   "name": "python3"
  },
  "language_info": {
   "codemirror_mode": {
    "name": "ipython",
    "version": 3
   },
   "file_extension": ".py",
   "mimetype": "text/x-python",
   "name": "python",
   "nbconvert_exporter": "python",
   "pygments_lexer": "ipython3",
   "version": "3.9.13"
  }
 },
 "nbformat": 4,
 "nbformat_minor": 5
}
