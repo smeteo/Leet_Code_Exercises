{
 "cells": [
  {
   "cell_type": "markdown",
   "metadata": {},
   "source": [
    "# Remove the Computer Virus"
   ]
  },
  {
   "cell_type": "markdown",
   "metadata": {},
   "source": [
    "Your computer might have been infected by a virus! Create a function that finds the viruses in files and removes them from your computer  \n",
    "Examples  \n",
    "remove_virus(\"PC Files: spotifysetup.exe, virus.exe, dog.jpg\") ➞ \"PC Files: spotifysetup.exe, dog.jpg\"  \n",
    "\n",
    "remove_virus(\"PC Files: antivirus.exe, cat.pdf, lethalmalware.exe, dangerousvirus.exe \") ➞ \"PC Files: antivirus.exe, cat.pdf\"  \n",
    "\n",
    "remove_virus(\"PC Files: notvirus.exe, funnycat.gif\") ➞ \"PC Files: notvirus.exe, funnycat.gif\")  \n",
    "Notes  \n",
    "Bad files will contain \"virus\" or \"malware\", but \"antivirus\" and \"notvirus\" will not be viruses.  \n",
    "Return \"PC Files: Empty\" if there are no files left on the computer.  "
   ]
  },
  {
   "cell_type": "markdown",
   "metadata": {},
   "source": [
    "# Solution"
   ]
  },
  {
   "cell_type": "code",
   "execution_count": 1,
   "metadata": {},
   "outputs": [],
   "source": [
    "def remove_virus(files):\n",
    "    cln1 = [file for file in files.split() if 'malware' not in file]\n",
    "    cln2 = [file for file in cln1 if 'virus' in file and 'anti' not in file and 'not' not in file]\n",
    "    if len(cln2)+2 == len(cln1): return \"PC Files: Empty\"\n",
    "    else: return ' '.join([file for file in cln1 if file not in cln2])"
   ]
  },
  {
   "cell_type": "code",
   "execution_count": 2,
   "metadata": {},
   "outputs": [
    {
     "data": {
      "text/plain": [
       "'PC Files: spotifysetup.exe, dog.jpg'"
      ]
     },
     "execution_count": 2,
     "metadata": {},
     "output_type": "execute_result"
    }
   ],
   "source": [
    "remove_virus(\"PC Files: spotifysetup.exe, virus.exe, dog.jpg\")"
   ]
  },
  {
   "cell_type": "code",
   "execution_count": 3,
   "metadata": {},
   "outputs": [
    {
     "data": {
      "text/plain": [
       "'PC Files: antivirus.exe, cat.pdf,'"
      ]
     },
     "execution_count": 3,
     "metadata": {},
     "output_type": "execute_result"
    }
   ],
   "source": [
    "remove_virus(\"PC Files: antivirus.exe, cat.pdf, lethalmalware.exe, dangerousvirus.exe \")"
   ]
  },
  {
   "cell_type": "code",
   "execution_count": 4,
   "metadata": {},
   "outputs": [
    {
     "data": {
      "text/plain": [
       "'PC Files: notvirus.exe, funnycat.gif'"
      ]
     },
     "execution_count": 4,
     "metadata": {},
     "output_type": "execute_result"
    }
   ],
   "source": [
    "remove_virus(\"PC Files: notvirus.exe, funnycat.gif\")"
   ]
  }
 ],
 "metadata": {
  "kernelspec": {
   "display_name": "Python 3",
   "language": "python",
   "name": "python3"
  },
  "language_info": {
   "codemirror_mode": {
    "name": "ipython",
    "version": 3
   },
   "file_extension": ".py",
   "mimetype": "text/x-python",
   "name": "python",
   "nbconvert_exporter": "python",
   "pygments_lexer": "ipython3",
   "version": "3.8.5"
  }
 },
 "nbformat": 4,
 "nbformat_minor": 4
}
