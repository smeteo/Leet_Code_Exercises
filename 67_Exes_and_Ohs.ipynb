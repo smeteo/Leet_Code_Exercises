{
 "cells": [
  {
   "cell_type": "markdown",
   "id": "0c69129b-731a-4b72-875c-a428897738ba",
   "metadata": {},
   "source": [
    "# Exes and Ohs"
   ]
  },
  {
   "cell_type": "code",
   "execution_count": null,
   "id": "a5142882-d24f-4bc1-9e09-636ed220056c",
   "metadata": {},
   "outputs": [],
   "source": []
  },
  {
   "cell_type": "markdown",
   "id": "fd068603-364c-4243-a73c-0aae0df43488",
   "metadata": {},
   "source": [
    "### Solution"
   ]
  },
  {
   "cell_type": "code",
   "execution_count": 61,
   "id": "9c356409-ba64-440d-ac5b-01b1eca33ad5",
   "metadata": {},
   "outputs": [],
   "source": [
    "def xo(s):\n",
    "    res = {}\n",
    "    for cha in s.lower():\n",
    "        res[cha] = res.get(cha,0) + 1\n",
    "    if (('o' not in res) and ('x' not in res)):\n",
    "        return True        \n",
    "    elif res['o'] == res['x']:\n",
    "        return True\n",
    "    else:\n",
    "        return False"
   ]
  },
  {
   "cell_type": "code",
   "execution_count": 62,
   "id": "ff2c8f2a-ec54-4aef-8bec-0d0cbb9d0de2",
   "metadata": {},
   "outputs": [
    {
     "data": {
      "text/plain": [
       "True"
      ]
     },
     "execution_count": 62,
     "metadata": {},
     "output_type": "execute_result"
    }
   ],
   "source": [
    "xo('ooxX')"
   ]
  },
  {
   "cell_type": "code",
   "execution_count": 63,
   "id": "53436b4c-2584-4756-aa6b-91873c90c693",
   "metadata": {},
   "outputs": [
    {
     "data": {
      "text/plain": [
       "False"
      ]
     },
     "execution_count": 63,
     "metadata": {},
     "output_type": "execute_result"
    }
   ],
   "source": [
    "xo('xooxx')"
   ]
  },
  {
   "cell_type": "code",
   "execution_count": 64,
   "id": "5e79bd2c-56d7-42fb-92d8-6b11e20ba0c1",
   "metadata": {},
   "outputs": [
    {
     "data": {
      "text/plain": [
       "True"
      ]
     },
     "execution_count": 64,
     "metadata": {},
     "output_type": "execute_result"
    }
   ],
   "source": [
    "xo('zpzpzpp')"
   ]
  },
  {
   "cell_type": "markdown",
   "id": "c5b53795-6afd-4278-b98b-c10913b85122",
   "metadata": {},
   "source": [
    "### Alternative"
   ]
  },
  {
   "cell_type": "code",
   "execution_count": 65,
   "id": "87d2fd8a-be66-4ebe-9941-81fe91723a53",
   "metadata": {},
   "outputs": [],
   "source": [
    "def xo(s):\n",
    "    s = s.lower()\n",
    "    return s.count('x') == s.count('o')"
   ]
  },
  {
   "cell_type": "code",
   "execution_count": null,
   "id": "897d9de3-fc11-4ed9-8b10-963c0de07ae3",
   "metadata": {},
   "outputs": [],
   "source": []
  }
 ],
 "metadata": {
  "kernelspec": {
   "display_name": "Python 3 (ipykernel)",
   "language": "python",
   "name": "python3"
  },
  "language_info": {
   "codemirror_mode": {
    "name": "ipython",
    "version": 3
   },
   "file_extension": ".py",
   "mimetype": "text/x-python",
   "name": "python",
   "nbconvert_exporter": "python",
   "pygments_lexer": "ipython3",
   "version": "3.9.7"
  }
 },
 "nbformat": 4,
 "nbformat_minor": 5
}
