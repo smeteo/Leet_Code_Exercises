{
 "cells": [
  {
   "cell_type": "markdown",
   "metadata": {},
   "source": [
    "# Closing in Sum"
   ]
  },
  {
   "cell_type": "markdown",
   "metadata": {},
   "source": [
    "Create a function that returns the sum of the digits formed from the first and last digits, all the way to the center of the number.  \n",
    "\n",
    "Worked Example  \n",
    "closing_in_sum(2520) ➞ 72  \n",
    "\n",
    "The first and last digits are 2 and 0.  \n",
    "2 and 0 form 20.  \n",
    "The second and second to last digits are 5 and 2.  \n",
    "5 and 2 form 52.  \n",
    "\n",
    "20 + 52 = 72  \n",
    "Examples  \n",
    "closing_in_sum(121) ➞ 13  \n",
    "11 + 2\n",
    "\n",
    "closing_in_sum(1039) ➞ 22  \n",
    "19 + 3\n",
    "\n",
    "closing_in_sum(22225555) ➞ 100  \n",
    "25 + 25 + 25 + 25  \n",
    "Notes  \n",
    "If the number has an odd number of digits, simply add on the single-digit number in the center.  \n",
    "Any number which is zero-padded counts as a single digit."
   ]
  },
  {
   "cell_type": "markdown",
   "metadata": {},
   "source": [
    "# Solution"
   ]
  },
  {
   "cell_type": "code",
   "execution_count": 58,
   "metadata": {},
   "outputs": [],
   "source": [
    "def closing_in_sum(n):\n",
    "    n=str(n)\n",
    "    result=0\n",
    "    for i in range(int(len(n)/2)):\n",
    "        result+=int(n[i]+n[-i-1])\n",
    "    if len(n)%2!=0:\n",
    "        result+=int(n[int(len(n)/2-.5)])\n",
    "    return result"
   ]
  },
  {
   "cell_type": "code",
   "execution_count": 59,
   "metadata": {},
   "outputs": [
    {
     "data": {
      "text/plain": [
       "72"
      ]
     },
     "execution_count": 59,
     "metadata": {},
     "output_type": "execute_result"
    }
   ],
   "source": [
    "closing_in_sum(2520)"
   ]
  },
  {
   "cell_type": "code",
   "execution_count": 60,
   "metadata": {},
   "outputs": [
    {
     "data": {
      "text/plain": [
       "13"
      ]
     },
     "execution_count": 60,
     "metadata": {},
     "output_type": "execute_result"
    }
   ],
   "source": [
    "closing_in_sum(121)"
   ]
  },
  {
   "cell_type": "code",
   "execution_count": 61,
   "metadata": {},
   "outputs": [
    {
     "data": {
      "text/plain": [
       "22"
      ]
     },
     "execution_count": 61,
     "metadata": {},
     "output_type": "execute_result"
    }
   ],
   "source": [
    "closing_in_sum(1039)"
   ]
  },
  {
   "cell_type": "code",
   "execution_count": 62,
   "metadata": {},
   "outputs": [
    {
     "data": {
      "text/plain": [
       "100"
      ]
     },
     "execution_count": 62,
     "metadata": {},
     "output_type": "execute_result"
    }
   ],
   "source": [
    "closing_in_sum(22225555)"
   ]
  }
 ],
 "metadata": {
  "kernelspec": {
   "display_name": "Python 3",
   "language": "python",
   "name": "python3"
  },
  "language_info": {
   "codemirror_mode": {
    "name": "ipython",
    "version": 3
   },
   "file_extension": ".py",
   "mimetype": "text/x-python",
   "name": "python",
   "nbconvert_exporter": "python",
   "pygments_lexer": "ipython3",
   "version": "3.8.5"
  }
 },
 "nbformat": 4,
 "nbformat_minor": 4
}
