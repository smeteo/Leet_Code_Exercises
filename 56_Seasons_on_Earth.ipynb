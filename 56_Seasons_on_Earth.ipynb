{
 "cells": [
  {
   "cell_type": "markdown",
   "metadata": {},
   "source": [
    "# Seasons on Earth"
   ]
  },
  {
   "cell_type": "markdown",
   "metadata": {},
   "source": [
    "In this challenge, you are given a date and you have to determine the correspondent season in a certain hemisphere of Earth.  \n",
    "  \n",
    "You have to use the ranges given by the meteorological seasons definition, accordingly to the following table:  \n",
    "  \n",
    "Start\tEnd\tNorth Hemisphere\tSouth Hemisphere  \n",
    "March, 1\tMay, 31\tSpring\tAutumn  \n",
    "June, 1\tAugust, 31\tSummer\tWinter  \n",
    "September, 1\tNovember, 30\tAutumn\tSpring  \n",
    "December, 1\tFebruary, 28***\tWinter\tSummer  \n",
    "Given two strings hemisphere (can be \"N\" for the North hemisphere or \"S\" for the South hemisphere) and date (name and day of the month), implement a function that returns a string with the season name, accordingly to the above table.  \n",
    "  \n",
    "Examples  \n",
    "hemisphere_season(\"N\", \"June, 30\") ➞ \"Summer\"  \n",
    "  \n",
    "hemisphere_season(\"N\", \"March, 1\") ➞ \"Spring\"  \n",
    "  \n",
    "hemisphere_season(\"S\", \"September, 22\") ➞ \"Spring\"  \n",
    "Notes  \n",
    "During leap years the end date of Winter in the northern hemisphere is the 29th day of February (last day of Summer in the southern hemisphere). In this challenge, years are not used, so the last day of February will always be the 28th.  "
   ]
  },
  {
   "cell_type": "markdown",
   "metadata": {},
   "source": [
    "# Solution"
   ]
  },
  {
   "cell_type": "code",
   "execution_count": 87,
   "metadata": {},
   "outputs": [],
   "source": [
    "from datetime import datetime\n",
    "def hemisphere_season(hemisphere, date):\n",
    "    if datetime.strptime('March,1', '%B,%d') <= datetime.strptime(date, '%B, %d') < datetime.strptime('June,1', '%B,%d'):\n",
    "        return 'Spring' if hemisphere=='N' else  'Autumn'\n",
    "    elif datetime.strptime('June,1', '%B,%d') <= datetime.strptime(date, '%B, %d') < datetime.strptime('September,1', '%B,%d'):\n",
    "        return 'Summer' if hemisphere=='N' else  'Winter'\n",
    "    elif datetime.strptime('September,1', '%B,%d') <= datetime.strptime(date, '%B, %d') < datetime.strptime('December,1', '%B,%d'):\n",
    "        return 'Autumn' if hemisphere=='N' else  'Spring'\n",
    "    else:\n",
    "        return 'Winter' if hemisphere=='N' else  'Summer'"
   ]
  },
  {
   "cell_type": "code",
   "execution_count": 88,
   "metadata": {},
   "outputs": [
    {
     "data": {
      "text/plain": [
       "'Summer'"
      ]
     },
     "execution_count": 88,
     "metadata": {},
     "output_type": "execute_result"
    }
   ],
   "source": [
    "hemisphere_season(\"N\", \"June, 30\")"
   ]
  },
  {
   "cell_type": "code",
   "execution_count": 89,
   "metadata": {},
   "outputs": [
    {
     "data": {
      "text/plain": [
       "'Spring'"
      ]
     },
     "execution_count": 89,
     "metadata": {},
     "output_type": "execute_result"
    }
   ],
   "source": [
    "hemisphere_season(\"N\", \"March, 1\")"
   ]
  },
  {
   "cell_type": "code",
   "execution_count": 90,
   "metadata": {},
   "outputs": [
    {
     "data": {
      "text/plain": [
       "'Spring'"
      ]
     },
     "execution_count": 90,
     "metadata": {},
     "output_type": "execute_result"
    }
   ],
   "source": [
    "hemisphere_season(\"S\", \"September, 22\")"
   ]
  }
 ],
 "metadata": {
  "kernelspec": {
   "display_name": "Python 3",
   "language": "python",
   "name": "python3"
  },
  "language_info": {
   "codemirror_mode": {
    "name": "ipython",
    "version": 3
   },
   "file_extension": ".py",
   "mimetype": "text/x-python",
   "name": "python",
   "nbconvert_exporter": "python",
   "pygments_lexer": "ipython3",
   "version": "3.8.5"
  }
 },
 "nbformat": 4,
 "nbformat_minor": 4
}
