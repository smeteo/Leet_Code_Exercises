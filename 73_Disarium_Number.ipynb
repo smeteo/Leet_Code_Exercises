{
 "cells": [
  {
   "cell_type": "markdown",
   "id": "dcad7359-af79-449d-996d-ee1a89d4fb23",
   "metadata": {},
   "source": [
    "# Disarium Number"
   ]
  },
  {
   "cell_type": "markdown",
   "id": "cd47c346-f5d3-428e-b76e-4d48b48a4154",
   "metadata": {},
   "source": [
    "A number is said to be Disarium if the sum of its digits raised to their respective positions is the number itself.  \n",
    "\n",
    "Create a function that determines whether a number is a Disarium or not.  \n",
    "\n",
    "Examples  \n",
    "is_disarium(75) ➞ False  \n",
    "# 7^1 + 5^2 = 7 + 25 = 32  \n",
    "\n",
    "is_disarium(135) ➞ True  \n",
    "# 1^1 + 3^2 + 5^3 = 1 + 9 + 125 = 135  \n",
    "\n",
    "is_disarium(544) ➞ False  \n",
    "\n",
    "is_disarium(518) ➞ True  \n",
    "\n",
    "is_disarium(466) ➞ False  \n",
    "\n",
    "is_disarium(8) ➞ True  \n",
    "Notes  \n",
    "Position of the digit is 1-indexed.  \n",
    "A recursive version of this challenge can be found via this link.  "
   ]
  },
  {
   "cell_type": "markdown",
   "id": "b8dfea7b-3246-4935-b60a-b4dc5796f4fd",
   "metadata": {},
   "source": [
    "# Solution"
   ]
  },
  {
   "cell_type": "code",
   "execution_count": 14,
   "id": "f2d4f7b2-f376-4688-a9bf-e3f7dc4489f2",
   "metadata": {},
   "outputs": [],
   "source": [
    "def is_disarium(n):\n",
    "    res = 0\n",
    "    for i in range(len(str(n))):\n",
    "        res += int(str(n)[i]) ** (i+1)\n",
    "    if res == n:\n",
    "        return True\n",
    "    else:\n",
    "        return False"
   ]
  },
  {
   "cell_type": "code",
   "execution_count": 15,
   "id": "01a77226-627e-4013-8f8d-a72f8a8a79d0",
   "metadata": {},
   "outputs": [
    {
     "data": {
      "text/plain": [
       "False"
      ]
     },
     "execution_count": 15,
     "metadata": {},
     "output_type": "execute_result"
    }
   ],
   "source": [
    "is_disarium(75)"
   ]
  },
  {
   "cell_type": "code",
   "execution_count": 16,
   "id": "4f4851b7-37a8-484c-b605-cf0cec9cb684",
   "metadata": {},
   "outputs": [
    {
     "data": {
      "text/plain": [
       "True"
      ]
     },
     "execution_count": 16,
     "metadata": {},
     "output_type": "execute_result"
    }
   ],
   "source": [
    "is_disarium(135)"
   ]
  },
  {
   "cell_type": "code",
   "execution_count": 17,
   "id": "ef2dc81f-4c26-43cf-ac9b-992c3b0235ea",
   "metadata": {},
   "outputs": [
    {
     "data": {
      "text/plain": [
       "False"
      ]
     },
     "execution_count": 17,
     "metadata": {},
     "output_type": "execute_result"
    }
   ],
   "source": [
    "is_disarium(544)"
   ]
  },
  {
   "cell_type": "code",
   "execution_count": 18,
   "id": "1d245868-dac6-4638-b011-76fee03a922e",
   "metadata": {},
   "outputs": [
    {
     "data": {
      "text/plain": [
       "True"
      ]
     },
     "execution_count": 18,
     "metadata": {},
     "output_type": "execute_result"
    }
   ],
   "source": [
    "is_disarium(518)"
   ]
  }
 ],
 "metadata": {
  "kernelspec": {
   "display_name": "Python 3 (ipykernel)",
   "language": "python",
   "name": "python3"
  },
  "language_info": {
   "codemirror_mode": {
    "name": "ipython",
    "version": 3
   },
   "file_extension": ".py",
   "mimetype": "text/x-python",
   "name": "python",
   "nbconvert_exporter": "python",
   "pygments_lexer": "ipython3",
   "version": "3.9.13"
  }
 },
 "nbformat": 4,
 "nbformat_minor": 5
}
