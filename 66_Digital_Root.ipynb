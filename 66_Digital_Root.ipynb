{
 "cells": [
  {
   "cell_type": "markdown",
   "id": "96473b8f-d147-49c3-b97c-cc3e08757653",
   "metadata": {},
   "source": [
    "# Digital Root"
   ]
  },
  {
   "cell_type": "markdown",
   "id": "0018e8e7-e6ff-45d8-bddc-d2c4267f08e1",
   "metadata": {},
   "source": [
    "Digital root is the recursive sum of all the digits in a number.  \n",
    "\n",
    "Given n, take the sum of the digits of n. If that value has more than one digit, continue reducing in this way until a single-digit number is produced. The input will be a non-negative integer.  \n",
    "\n",
    "Examples\n",
    "    16  -->  1 + 6 = 7\n",
    "   942  -->  9 + 4 + 2 = 15  -->  1 + 5 = 6  \n",
    "132189  -->  1 + 3 + 2 + 1 + 8 + 9 = 24  -->  2 + 4 = 6  \n",
    "493193  -->  4 + 9 + 3 + 1 + 9 + 3 = 29  -->  2 + 9 = 11  -->  1 + 1 = 2  "
   ]
  },
  {
   "cell_type": "markdown",
   "id": "dc8cd5b1-fb63-4a17-9596-1c5abbbfb556",
   "metadata": {},
   "source": [
    "### Solution"
   ]
  },
  {
   "cell_type": "code",
   "execution_count": 1,
   "id": "bcf9f067-bb2d-426e-b1b6-4978ec2c202f",
   "metadata": {},
   "outputs": [],
   "source": [
    "def digital_root(n):\n",
    "    result = sum(int(i) for i in str(n))\n",
    "    if result >= 10:\n",
    "        return digital_root(result)\n",
    "    else:\n",
    "        return result"
   ]
  },
  {
   "cell_type": "code",
   "execution_count": 2,
   "id": "f5d32436-0821-40e3-8bb8-5fcf28a3dc60",
   "metadata": {},
   "outputs": [
    {
     "data": {
      "text/plain": [
       "7"
      ]
     },
     "execution_count": 2,
     "metadata": {},
     "output_type": "execute_result"
    }
   ],
   "source": [
    "digital_root(16)"
   ]
  },
  {
   "cell_type": "code",
   "execution_count": 3,
   "id": "b664bb90-9d11-4d6f-83a8-57af208d574d",
   "metadata": {},
   "outputs": [
    {
     "data": {
      "text/plain": [
       "6"
      ]
     },
     "execution_count": 3,
     "metadata": {},
     "output_type": "execute_result"
    }
   ],
   "source": [
    "digital_root(132189)"
   ]
  },
  {
   "cell_type": "code",
   "execution_count": 4,
   "id": "6de65be9-2c0b-4d1c-98b3-cd0c083112a7",
   "metadata": {},
   "outputs": [
    {
     "data": {
      "text/plain": [
       "6"
      ]
     },
     "execution_count": 4,
     "metadata": {},
     "output_type": "execute_result"
    }
   ],
   "source": [
    "digital_root(942)"
   ]
  },
  {
   "cell_type": "code",
   "execution_count": 5,
   "id": "d9e4989a-80fc-4aee-a1a6-7e5477d1641b",
   "metadata": {},
   "outputs": [
    {
     "data": {
      "text/plain": [
       "2"
      ]
     },
     "execution_count": 5,
     "metadata": {},
     "output_type": "execute_result"
    }
   ],
   "source": [
    "digital_root(493193)"
   ]
  }
 ],
 "metadata": {
  "kernelspec": {
   "display_name": "Python 3 (ipykernel)",
   "language": "python",
   "name": "python3"
  },
  "language_info": {
   "codemirror_mode": {
    "name": "ipython",
    "version": 3
   },
   "file_extension": ".py",
   "mimetype": "text/x-python",
   "name": "python",
   "nbconvert_exporter": "python",
   "pygments_lexer": "ipython3",
   "version": "3.9.7"
  }
 },
 "nbformat": 4,
 "nbformat_minor": 5
}
