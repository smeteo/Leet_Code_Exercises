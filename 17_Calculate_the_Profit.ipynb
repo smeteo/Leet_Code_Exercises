{
 "cells": [
  {
   "cell_type": "markdown",
   "metadata": {},
   "source": [
    "# Calculate the Profit"
   ]
  },
  {
   "cell_type": "markdown",
   "metadata": {},
   "source": [
    "You work for a manufacturer, and have been asked to calculate the total profit made on the sales of a product. You are given a dictionary containing the cost price per unit (in dollars), sell price per unit (in dollars), and the starting inventory. Return the total profit made, rounded to the nearest dollar.  \n",
    "\n",
    "Examples  \n",
    "profit({  \n",
    "  \"cost_price\": 32.67,  \n",
    "  \"sell_price\": 45.00,  \n",
    "  \"inventory\": 1200  \n",
    "}) ➞ 14796  \n",
    "\n",
    "profit({  \n",
    "  \"cost_price\": 225.89,  \n",
    "  \"sell_price\": 550.00,  \n",
    "  \"inventory\": 100  \n",
    "}) ➞ 32411  \n",
    "\n",
    "profit({  \n",
    "  \"cost_price\": 2.77,  \n",
    "  \"sell_price\": 7.95,  \n",
    "  \"inventory\": 8500  \n",
    "}) ➞ 44030  \n",
    "Notes  \n",
    "Assume all inventory has been sold.  \n",
    "Profit = Total Sales - Total Cost  "
   ]
  },
  {
   "cell_type": "markdown",
   "metadata": {},
   "source": [
    "# Solution"
   ]
  },
  {
   "cell_type": "code",
   "execution_count": 6,
   "metadata": {},
   "outputs": [],
   "source": [
    "def profit(info):\n",
    "    profit = info['inventory']*(info['sell_price'] - info['cost_price'])\n",
    "    return round(profit)"
   ]
  },
  {
   "cell_type": "code",
   "execution_count": 7,
   "metadata": {},
   "outputs": [
    {
     "data": {
      "text/plain": [
       "14796"
      ]
     },
     "execution_count": 7,
     "metadata": {},
     "output_type": "execute_result"
    }
   ],
   "source": [
    "profit({\n",
    "  \"cost_price\": 32.67,\n",
    "  \"sell_price\": 45.00,\n",
    "  \"inventory\": 1200\n",
    "})"
   ]
  },
  {
   "cell_type": "code",
   "execution_count": 8,
   "metadata": {},
   "outputs": [
    {
     "data": {
      "text/plain": [
       "32411"
      ]
     },
     "execution_count": 8,
     "metadata": {},
     "output_type": "execute_result"
    }
   ],
   "source": [
    "profit({\n",
    "  \"cost_price\": 225.89,\n",
    "  \"sell_price\": 550.00,\n",
    "  \"inventory\": 100\n",
    "})"
   ]
  },
  {
   "cell_type": "code",
   "execution_count": 9,
   "metadata": {},
   "outputs": [
    {
     "data": {
      "text/plain": [
       "44030"
      ]
     },
     "execution_count": 9,
     "metadata": {},
     "output_type": "execute_result"
    }
   ],
   "source": [
    "profit({\n",
    "  \"cost_price\": 2.77,\n",
    "  \"sell_price\": 7.95,\n",
    "  \"inventory\": 8500\n",
    "})"
   ]
  },
  {
   "cell_type": "code",
   "execution_count": null,
   "metadata": {},
   "outputs": [],
   "source": []
  }
 ],
 "metadata": {
  "kernelspec": {
   "display_name": "Python 3",
   "language": "python",
   "name": "python3"
  },
  "language_info": {
   "codemirror_mode": {
    "name": "ipython",
    "version": 3
   },
   "file_extension": ".py",
   "mimetype": "text/x-python",
   "name": "python",
   "nbconvert_exporter": "python",
   "pygments_lexer": "ipython3",
   "version": "3.8.5"
  }
 },
 "nbformat": 4,
 "nbformat_minor": 4
}
