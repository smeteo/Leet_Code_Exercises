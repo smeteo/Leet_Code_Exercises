{
 "cells": [
  {
   "cell_type": "markdown",
   "metadata": {},
   "source": [
    "# Encoded String Parse"
   ]
  },
  {
   "cell_type": "markdown",
   "metadata": {},
   "source": [
    "Create a function which takes in an encoded string and returns a dictionary according to the following example:    \n",
    "\n",
    "Examples    \n",
    "parse_code(\"John000Doe000123\") ➞ {    \n",
    "  \"first_name\": \"John\",    \n",
    "  \"last_name\": \"Doe\",    \n",
    "  \"id\": \"123\"    \n",
    "}   \n",
    "\n",
    "parse_code(\"michael0smith004331\") ➞ {  \n",
    "  \"first_name\": \"michael\",  \n",
    "  \"last_name\": \"smith\",  \n",
    "  \"id\": \"4331\"  \n",
    "}  \n",
    "\n",
    "parse_code(\"Thomas00LEE0000043\") ➞ {  \n",
    "  \"first_name\": \"Thomas\",  \n",
    "  \"last_name\": \"LEE\",  \n",
    "  \"id\": \"43\"  \n",
    "}  \n",
    "Notes  \n",
    "The string will always be in the same format: first name, last name and id with zeros between them.  \n",
    "id numbers will not contain any zeros.  \n",
    "Bonus: Try solving this using RegEx.  "
   ]
  },
  {
   "cell_type": "markdown",
   "metadata": {},
   "source": [
    "# Solution"
   ]
  },
  {
   "cell_type": "code",
   "execution_count": 26,
   "metadata": {},
   "outputs": [],
   "source": [
    "def parse_code(txt):\n",
    "    lst=[i for i in txt.split('0') if i!='']\n",
    "    dic={'first_name':lst[0], 'last_name':lst[1], 'id':lst[2]}\n",
    "    return dic            "
   ]
  },
  {
   "cell_type": "code",
   "execution_count": 27,
   "metadata": {},
   "outputs": [
    {
     "data": {
      "text/plain": [
       "{'first_name': 'John', 'last_name': 'Doe', 'id': '123'}"
      ]
     },
     "execution_count": 27,
     "metadata": {},
     "output_type": "execute_result"
    }
   ],
   "source": [
    "parse_code(\"John000Doe000123\")"
   ]
  },
  {
   "cell_type": "code",
   "execution_count": 28,
   "metadata": {},
   "outputs": [
    {
     "data": {
      "text/plain": [
       "{'first_name': 'michael', 'last_name': 'smith', 'id': '4331'}"
      ]
     },
     "execution_count": 28,
     "metadata": {},
     "output_type": "execute_result"
    }
   ],
   "source": [
    "parse_code(\"michael0smith004331\")"
   ]
  },
  {
   "cell_type": "code",
   "execution_count": 29,
   "metadata": {},
   "outputs": [
    {
     "data": {
      "text/plain": [
       "{'first_name': 'Thomas', 'last_name': 'LEE', 'id': '43'}"
      ]
     },
     "execution_count": 29,
     "metadata": {},
     "output_type": "execute_result"
    }
   ],
   "source": [
    "parse_code(\"Thomas00LEE0000043\")"
   ]
  },
  {
   "cell_type": "markdown",
   "metadata": {},
   "source": [
    "# Regex Solution"
   ]
  },
  {
   "cell_type": "code",
   "execution_count": null,
   "metadata": {},
   "outputs": [],
   "source": []
  }
 ],
 "metadata": {
  "kernelspec": {
   "display_name": "Python 3",
   "language": "python",
   "name": "python3"
  },
  "language_info": {
   "codemirror_mode": {
    "name": "ipython",
    "version": 3
   },
   "file_extension": ".py",
   "mimetype": "text/x-python",
   "name": "python",
   "nbconvert_exporter": "python",
   "pygments_lexer": "ipython3",
   "version": "3.8.5"
  }
 },
 "nbformat": 4,
 "nbformat_minor": 4
}
