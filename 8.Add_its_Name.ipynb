{
 "cells": [
  {
   "cell_type": "markdown",
   "metadata": {},
   "source": [
    "# Add its Name"
   ]
  },
  {
   "cell_type": "markdown",
   "metadata": {},
   "source": [
    "Given three arguments ⁠— a dictionary obj, a key name and a value ⁠— return a dictionary with that name and value in it (as key-value pairs).\n",
    "\n",
    "Examples  \n",
    "add_name({}, \"Brutus\", 300) ➞ { \"Brutus\": 300 }  \n",
    " \n",
    "add_name({ \"piano\": 500 }, \"Brutus\", 400) ➞ { \"piano\": 500, \"Brutus\": 400 }  \n",
    "\n",
    "add_name({ \"piano\": 500, \"stereo\": 300 }, \"Caligula\", 440) ➞ { \"piano\": 500, \"stereo\": 300, \"Caligula\": 440 }   \n",
    "Notes  \n",
    "The value argument will be a number.   "
   ]
  },
  {
   "cell_type": "code",
   "execution_count": 31,
   "metadata": {},
   "outputs": [],
   "source": [
    "def add_name(obj,name,value):\n",
    "    dict1={}\n",
    "    dict1.update(obj)\n",
    "    dict1[name]=value\n",
    "    return print(dict1)"
   ]
  },
  {
   "cell_type": "code",
   "execution_count": 32,
   "metadata": {},
   "outputs": [
    {
     "name": "stdout",
     "output_type": "stream",
     "text": [
      "{'brutus': 300}\n"
     ]
    }
   ],
   "source": [
    "add_name({}, 'brutus',300)"
   ]
  },
  {
   "cell_type": "code",
   "execution_count": 33,
   "metadata": {},
   "outputs": [
    {
     "name": "stdout",
     "output_type": "stream",
     "text": [
      "{'piano': 500, 'Brutus': 400}\n"
     ]
    }
   ],
   "source": [
    "add_name({ \"piano\": 500 }, \"Brutus\", 400)"
   ]
  },
  {
   "cell_type": "code",
   "execution_count": 34,
   "metadata": {},
   "outputs": [
    {
     "name": "stdout",
     "output_type": "stream",
     "text": [
      "{'piano': 500, 'stereo': 300, 'Caligula': 440}\n"
     ]
    }
   ],
   "source": [
    "add_name({ \"piano\": 500, \"stereo\": 300 }, \"Caligula\", 440)"
   ]
  },
  {
   "cell_type": "code",
   "execution_count": null,
   "metadata": {},
   "outputs": [],
   "source": []
  }
 ],
 "metadata": {
  "kernelspec": {
   "display_name": "Python 3",
   "language": "python",
   "name": "python3"
  },
  "language_info": {
   "codemirror_mode": {
    "name": "ipython",
    "version": 3
   },
   "file_extension": ".py",
   "mimetype": "text/x-python",
   "name": "python",
   "nbconvert_exporter": "python",
   "pygments_lexer": "ipython3",
   "version": "3.8.3"
  }
 },
 "nbformat": 4,
 "nbformat_minor": 4
}
