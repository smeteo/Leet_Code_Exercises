{
 "cells": [
  {
   "cell_type": "markdown",
   "id": "ad83ef92-8359-4a03-8198-583983c46263",
   "metadata": {},
   "source": [
    "# Valid Parantheses"
   ]
  },
  {
   "cell_type": "markdown",
   "id": "0d838128-f814-4bb8-979d-db024c70dcf5",
   "metadata": {},
   "source": [
    "Given a string s containing just the characters '(', ')', '{', '}', '[' and ']', determine if the input string is valid.  \n",
    "  \n",
    "An input string is valid if:  \n",
    "  \n",
    "Open brackets must be closed by the same type of brackets.  \n",
    "Open brackets must be closed in the correct order.  \n",
    "   \n",
    "  \n",
    "Example 1:  \n",
    "  \n",
    "Input: s = \"()\"  \n",
    "Output: true  \n",
    "Example 2:  \n",
    "  \n",
    "Input: s = \"()[]{}\"  \n",
    "Output: true  \n",
    "Example 3:  \n",
    "  \n",
    "Input: s = \"(]\"  \n",
    "Output: false  "
   ]
  },
  {
   "cell_type": "markdown",
   "id": "f5b69350-65e7-4042-90eb-3264af685b3f",
   "metadata": {},
   "source": [
    "# Solution"
   ]
  },
  {
   "cell_type": "code",
   "execution_count": 13,
   "id": "940117e6-8a75-4b51-bc45-4a4d3b96ca5f",
   "metadata": {},
   "outputs": [],
   "source": [
    "class Solution:\n",
    "    def isValid(self, s: str) -> bool:\n",
    "        opening_brackets = set('({[')\n",
    "        closing_to_opening = {')': '(', ']': '[', '}': '{'}\n",
    "        stack = []\n",
    "        \n",
    "        for c in s:\n",
    "            if c in opening_brackets:\n",
    "                stack.append(c)\n",
    "            else:\n",
    "                if not stack or stack[-1] != closing_to_opening[c]:\n",
    "                    return False\n",
    "                stack.pop()\n",
    "        \n",
    "        return not stack"
   ]
  },
  {
   "cell_type": "code",
   "execution_count": 18,
   "id": "0a0f9bc3-f58c-445c-a932-4c4e8a68105b",
   "metadata": {},
   "outputs": [],
   "source": [
    "x=Solution()"
   ]
  },
  {
   "cell_type": "code",
   "execution_count": 19,
   "id": "0c7392e9-b8af-4be9-81ed-ce30294cb013",
   "metadata": {},
   "outputs": [
    {
     "data": {
      "text/plain": [
       "False"
      ]
     },
     "execution_count": 19,
     "metadata": {},
     "output_type": "execute_result"
    }
   ],
   "source": [
    "x.isValid(\"()[]{\")"
   ]
  },
  {
   "cell_type": "code",
   "execution_count": 20,
   "id": "06e10e42-24d6-459c-ac33-4fc43bd4ee8b",
   "metadata": {},
   "outputs": [
    {
     "data": {
      "text/plain": [
       "True"
      ]
     },
     "execution_count": 20,
     "metadata": {},
     "output_type": "execute_result"
    }
   ],
   "source": [
    "x.isValid(\"()[]{}\")"
   ]
  },
  {
   "cell_type": "code",
   "execution_count": 21,
   "id": "cf6e176c-a696-4d46-acd9-fe5b9bf33d07",
   "metadata": {},
   "outputs": [
    {
     "data": {
      "text/plain": [
       "False"
      ]
     },
     "execution_count": 21,
     "metadata": {},
     "output_type": "execute_result"
    }
   ],
   "source": [
    "x.isValid(\"(]\")"
   ]
  },
  {
   "cell_type": "code",
   "execution_count": null,
   "id": "08e8eac9-dd20-4068-bcb6-2e7620303fa4",
   "metadata": {},
   "outputs": [],
   "source": []
  }
 ],
 "metadata": {
  "kernelspec": {
   "display_name": "Python 3 (ipykernel)",
   "language": "python",
   "name": "python3"
  },
  "language_info": {
   "codemirror_mode": {
    "name": "ipython",
    "version": 3
   },
   "file_extension": ".py",
   "mimetype": "text/x-python",
   "name": "python",
   "nbconvert_exporter": "python",
   "pygments_lexer": "ipython3",
   "version": "3.9.7"
  }
 },
 "nbformat": 4,
 "nbformat_minor": 5
}
