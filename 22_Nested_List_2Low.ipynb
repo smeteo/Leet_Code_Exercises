{
 "cells": [
  {
   "cell_type": "markdown",
   "metadata": {},
   "source": [
    "# Nested lists, Students and Grades"
   ]
  },
  {
   "cell_type": "markdown",
   "metadata": {},
   "source": [
    "Given the names and grades for each student in a class of  students, store them in a nested list and print the name(s) of any student(s) having the second lowest grade.  \n",
    "\n",
    "Note: If there are multiple students with the second lowest grade, order their names alphabetically and print each name on a new line.  \n",
    "\n",
    "Example  \n",
    "\n",
    "The ordered list of scores is , so the second lowest score is . There are two students with that score: . Ordered alphabetically, the names are printed as:  \n",
    "\n",
    "alpha  \n",
    "beta  \n",
    "Input Format  \n",
    "\n",
    "The first line contains an integer, , the number of students. \n",
    "The  subsequent lines describe each student over  lines.  \n",
    "- The first line contains a student's name.  \n",
    "- The second line contains their grade.  \n",
    "\n",
    "Constraints  \n",
    "\n",
    "There will always be one or more students having the second lowest grade.  \n",
    "Output Format  \n",
    "  \n",
    "Print the name(s) of any student(s) having the second lowest grade in. If there are multiple students, order their names alphabetically and print each one on a new line."
   ]
  },
  {
   "cell_type": "markdown",
   "metadata": {},
   "source": [
    "# Solution"
   ]
  },
  {
   "cell_type": "code",
   "execution_count": 185,
   "metadata": {},
   "outputs": [
    {
     "name": "stdin",
     "output_type": "stream",
     "text": [
      "Enter the size of list  3\n",
      " chi\n",
      " 20.0\n",
      " beta\n",
      " 50.0\n",
      " alpha\n",
      " 50.0\n"
     ]
    },
    {
     "name": "stdout",
     "output_type": "stream",
     "text": [
      "Your list: [['chi', 20.0], ['beta', 50.0], ['alpha', 50.0]] \n",
      "\n",
      "Student(s) with second lowest score:\n",
      "-------------\n",
      "beta\n",
      "alpha\n"
     ]
    }
   ],
   "source": [
    "my_list=[]\n",
    "temp_list=[]\n",
    "n=int(input('Enter the size of list '))\n",
    "\n",
    "\n",
    "for i in range(n):  # for number of sub-list in the list\n",
    "    for j in range(0,2): # range(2) for size of sub_list\n",
    "        temp_list.append(input())\n",
    "    my_list.append(temp_list)\n",
    "    temp_list=[]  #set temp_list to null\n",
    "\n",
    "my_list = [[name, float(grade)] for name, grade in my_list] # Converting 2nd elements to integer\n",
    "print('Your list:',my_list,'\\n')\n",
    "print('Student(s) with second lowest score:')\n",
    "print('-------------')\n",
    "\n",
    "min_score = min(my_list, key=lambda x: x[1])[1] # Finding min score in nested list\n",
    "set_of_grades = set([item[1] for item in my_list]) # Creating a set of scores\n",
    "set_of_grades.remove(min_score) # Removing min score from nested set, \n",
    "for item in my_list:\n",
    "    if item[1] == min(set_of_grades):\n",
    "        print(item[0])"
   ]
  },
  {
   "cell_type": "code",
   "execution_count": 186,
   "metadata": {},
   "outputs": [
    {
     "name": "stdin",
     "output_type": "stream",
     "text": [
      "Enter the size of list  5\n",
      " Harry\n",
      " 37.21\n",
      " Berry\n",
      " 37.21\n",
      " Tina\n",
      " 37.2\n",
      " Akriti\n",
      " 41\n",
      " Harsh\n",
      " 39\n"
     ]
    },
    {
     "name": "stdout",
     "output_type": "stream",
     "text": [
      "Your list: [['Harry', 37.21], ['Berry', 37.21], ['Tina', 37.2], ['Akriti', 41.0], ['Harsh', 39.0]] \n",
      "\n",
      "Student(s) with second lowest score:\n",
      "-------------\n",
      "Harry\n",
      "Berry\n"
     ]
    }
   ],
   "source": [
    "my_list=[]\n",
    "temp_list=[]\n",
    "n=int(input('Enter the size of list '))\n",
    "\n",
    "\n",
    "for i in range(n):  # for number of sub-list in the list\n",
    "    for j in range(0,2): # range(2) for size of sub_list\n",
    "        temp_list.append(input())\n",
    "    my_list.append(temp_list)\n",
    "    temp_list=[]  #set temp_list to null\n",
    "\n",
    "my_list = [[name, float(grade)] for name, grade in my_list] # Converting 2nd elements to integer\n",
    "print('Your list:',my_list,'\\n')\n",
    "print('Student(s) with second lowest score:')\n",
    "print('-------------')\n",
    "\n",
    "min_score = min(my_list, key=lambda x: x[1])[1] # Finding min score in nested list\n",
    "set_of_grades = set([item[1] for item in my_list]) # Creating a set of scores\n",
    "set_of_grades.remove(min_score) # Removing min score from nested set, \n",
    "for item in my_list:\n",
    "    if item[1] == min(set_of_grades):\n",
    "        print(item[0])"
   ]
  },
  {
   "cell_type": "code",
   "execution_count": null,
   "metadata": {},
   "outputs": [],
   "source": []
  }
 ],
 "metadata": {
  "kernelspec": {
   "display_name": "Python 3",
   "language": "python",
   "name": "python3"
  },
  "language_info": {
   "codemirror_mode": {
    "name": "ipython",
    "version": 3
   },
   "file_extension": ".py",
   "mimetype": "text/x-python",
   "name": "python",
   "nbconvert_exporter": "python",
   "pygments_lexer": "ipython3",
   "version": "3.8.5"
  }
 },
 "nbformat": 4,
 "nbformat_minor": 4
}
