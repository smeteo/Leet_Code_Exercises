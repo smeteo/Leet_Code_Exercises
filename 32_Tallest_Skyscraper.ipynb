{
 "cells": [
  {
   "cell_type": "markdown",
   "metadata": {},
   "source": [
    "# Tallest Skyscraper"
   ]
  },
  {
   "cell_type": "markdown",
   "metadata": {},
   "source": [
    "A city skyline can be represented as a 2-D list with 1s representing buildings. In the example below, the height of the tallest building is 4 (second-most right column).   \n",
    "\n",
    "[[0, 0, 0, 0, 0, 0],  \n",
    "[0, 0, 0, 0, 1, 0],  \n",
    "[0, 0, 1, 0, 1, 0],  \n",
    "[0, 1, 1, 1, 1, 0],  \n",
    "[1, 1, 1, 1, 1, 1]]  \n",
    "Create a function that takes a skyline (2-D list of 0's and 1's) and returns the height of the tallest skyscraper.  \n",
    " \n",
    "Examples  \n",
    "tallest_skyscraper([  \n",
    "  [0, 0, 0, 0],  \n",
    "  [0, 1, 0, 0],  \n",
    "  [0, 1, 1, 0],  \n",
    "  [1, 1, 1, 1]  \n",
    "]) ➞ 1  \n",
    "\n",
    "tallest_skyscraper([  \n",
    "  [0, 1, 0, 0],  \n",
    "  [0, 1, 0, 0],  \n",
    "  [0, 1, 1, 0],  \n",
    "  [1, 1, 1, 1]  \n",
    "]) ➞ 1  \n",
    "\n",
    "tallest_skyscraper([  \n",
    "  [0, 0, 0, 1],  \n",
    "  [0, 0, 0, 1],  \n",
    "  [1, 1, 1, 0],  \n",
    "  [1, 1, 1, 1]  \n",
    "]) ➞ 3  "
   ]
  },
  {
   "cell_type": "code",
   "execution_count": 55,
   "metadata": {},
   "outputs": [],
   "source": [
    "def tallest_skyscraper(lst):\n",
    "    reverse=[sum(x) for x in zip(*lst)]\n",
    "    return reverse.index(max(reverse))"
   ]
  },
  {
   "cell_type": "code",
   "execution_count": 56,
   "metadata": {},
   "outputs": [
    {
     "data": {
      "text/plain": [
       "0"
      ]
     },
     "execution_count": 56,
     "metadata": {},
     "output_type": "execute_result"
    }
   ],
   "source": [
    "tallest_skyscraper([\n",
    "  [1, 0, 0, 0],\n",
    "  [1, 1, 0, 0],\n",
    "  [1, 1, 1, 0],\n",
    "  [1, 1, 1, 1]\n",
    "])"
   ]
  },
  {
   "cell_type": "code",
   "execution_count": 57,
   "metadata": {},
   "outputs": [
    {
     "data": {
      "text/plain": [
       "1"
      ]
     },
     "execution_count": 57,
     "metadata": {},
     "output_type": "execute_result"
    }
   ],
   "source": [
    "tallest_skyscraper([\n",
    "  [0, 1, 0, 0],\n",
    "  [0, 1, 0, 0],\n",
    "  [0, 1, 1, 0],\n",
    "  [1, 1, 1, 1]\n",
    "])"
   ]
  },
  {
   "cell_type": "code",
   "execution_count": 58,
   "metadata": {},
   "outputs": [
    {
     "data": {
      "text/plain": [
       "3"
      ]
     },
     "execution_count": 58,
     "metadata": {},
     "output_type": "execute_result"
    }
   ],
   "source": [
    "tallest_skyscraper([\n",
    "  [0, 0, 0, 1],\n",
    "  [0, 0, 0, 1],\n",
    "  [1, 1, 1, 0],\n",
    "  [1, 1, 1, 1]\n",
    "])"
   ]
  }
 ],
 "metadata": {
  "kernelspec": {
   "display_name": "Python 3",
   "language": "python",
   "name": "python3"
  },
  "language_info": {
   "codemirror_mode": {
    "name": "ipython",
    "version": 3
   },
   "file_extension": ".py",
   "mimetype": "text/x-python",
   "name": "python",
   "nbconvert_exporter": "python",
   "pygments_lexer": "ipython3",
   "version": "3.8.5"
  }
 },
 "nbformat": 4,
 "nbformat_minor": 4
}
