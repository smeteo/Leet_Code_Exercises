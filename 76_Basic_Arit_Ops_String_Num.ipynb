{
 "cells": [
  {
   "cell_type": "markdown",
   "id": "cc32b18a-5048-4c63-9396-734d1a82ebaa",
   "metadata": {},
   "source": [
    "# Basic Arithmetic Operations on a String Number"
   ]
  },
  {
   "cell_type": "markdown",
   "id": "1fa58bec-a979-4eeb-b6f8-a62107d24208",
   "metadata": {},
   "source": [
    "Create a function to perform basic arithmetic operations that includes addition, subtraction, multiplication and division on a string number (e.g. \"12 + 24\" or \"23 - 21\" or \"12 // 12\" or \"12 * 21\").  \n",
    "  \n",
    "Here, we have 1 followed by a space, operator followed by another space and 2. For the challenge, we are going to have only two numbers between 1 valid operator. The return value should be a number.  \n",
    "  \n",
    "eval() is not allowed. In case of division, whenever the second number equals \"0\" return -1.  \n",
    "  \n",
    "For example:  \n",
    "  \n",
    "\"15 // 0\"  ➞ -1  \n",
    "Examples  \n",
    "arithmetic_operation(\"12 + 12\") ➞ 24 // 12 + 12 = 24  \n",
    "  \n",
    "arithmetic_operation(\"12 - 12\") ➞ 24 // 12 - 12 = 0  \n",
    "  \n",
    "arithmetic_operation(\"12 * 12\") ➞ 144 // 12 * 12 = 144  \n",
    "  \n",
    "arithmetic_operation(\"12 // 0\") ➞ -1 // 12 / 0 = -1  \n",
    "Notes  \n",
    "All the inputs are only integers.  \n",
    "The operators are * - + and //.  \n",
    "Hint: Think about the single space that appears before and after the arithmetic operator.  "
   ]
  },
  {
   "cell_type": "markdown",
   "id": "fb608703-bbe8-490c-a0e2-e96c873bab3c",
   "metadata": {},
   "source": [
    "# Solution"
   ]
  },
  {
   "cell_type": "code",
   "execution_count": 9,
   "id": "e63cdaa0-16b7-4cba-940f-e1f995e558c8",
   "metadata": {},
   "outputs": [],
   "source": [
    "def arithmetic_operation(n):\n",
    "    values = n.split()\n",
    "    if values[1] == '+':\n",
    "        return int(values[0]) + int(values[2])\n",
    "    elif values[1] == '-':\n",
    "        return int(values[0]) - int(values[2])\n",
    "    elif values[1] == '*':\n",
    "        return int(values[0]) * int(values[2])\n",
    "    elif values[1] == '//':\n",
    "        if values[2] == '0':\n",
    "            return -1\n",
    "        else:\n",
    "            return int(values[0]) // int(values[2])"
   ]
  },
  {
   "cell_type": "code",
   "execution_count": 10,
   "id": "0ae61bdb-55a2-44df-a412-15b582b4e470",
   "metadata": {},
   "outputs": [
    {
     "data": {
      "text/plain": [
       "24"
      ]
     },
     "execution_count": 10,
     "metadata": {},
     "output_type": "execute_result"
    }
   ],
   "source": [
    "arithmetic_operation(\"12 + 12\")"
   ]
  },
  {
   "cell_type": "code",
   "execution_count": 11,
   "id": "45a20d87-36cd-4916-ba32-35ddb6ce372c",
   "metadata": {},
   "outputs": [
    {
     "data": {
      "text/plain": [
       "0"
      ]
     },
     "execution_count": 11,
     "metadata": {},
     "output_type": "execute_result"
    }
   ],
   "source": [
    "arithmetic_operation(\"12 - 12\")"
   ]
  },
  {
   "cell_type": "code",
   "execution_count": 12,
   "id": "fcefd30a-6e3e-44fe-8034-cf2066ffa485",
   "metadata": {},
   "outputs": [
    {
     "data": {
      "text/plain": [
       "144"
      ]
     },
     "execution_count": 12,
     "metadata": {},
     "output_type": "execute_result"
    }
   ],
   "source": [
    "arithmetic_operation(\"12 * 12\")"
   ]
  },
  {
   "cell_type": "code",
   "execution_count": 15,
   "id": "e0a8fefe-32cc-493e-9377-ffd159555c85",
   "metadata": {},
   "outputs": [
    {
     "data": {
      "text/plain": [
       "-1"
      ]
     },
     "execution_count": 15,
     "metadata": {},
     "output_type": "execute_result"
    }
   ],
   "source": [
    "arithmetic_operation(\"12 // 0\")"
   ]
  },
  {
   "cell_type": "code",
   "execution_count": null,
   "id": "9f449599-6a0c-4249-b73d-0e8280272334",
   "metadata": {},
   "outputs": [],
   "source": []
  }
 ],
 "metadata": {
  "kernelspec": {
   "display_name": "Python 3 (ipykernel)",
   "language": "python",
   "name": "python3"
  },
  "language_info": {
   "codemirror_mode": {
    "name": "ipython",
    "version": 3
   },
   "file_extension": ".py",
   "mimetype": "text/x-python",
   "name": "python",
   "nbconvert_exporter": "python",
   "pygments_lexer": "ipython3",
   "version": "3.9.13"
  }
 },
 "nbformat": 4,
 "nbformat_minor": 5
}
